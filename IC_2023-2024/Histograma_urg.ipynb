{
 "cells": [
  {
   "cell_type": "code",
   "execution_count": 1,
   "metadata": {
    "collapsed": true
   },
   "outputs": [],
   "source": [
    "import pandas as pd\n",
    "import numpy as np\n",
    "import matplotlib.pyplot as plt\n",
    "import scipy as sp"
   ]
  },
  {
   "cell_type": "code",
   "execution_count": 4,
   "outputs": [],
   "source": [
    "def plot_data(path, estilo=\"d\"):\n",
    "    '''\n",
    "    :param path: Arquivo com os dados. Ex: ITUB.csv\n",
    "    :param estilo: d=diario, s=semanal, m=mensal.\n",
    "    :return: Histograma com as linhas em verde significando um desvio padrao e a vermelha significando a média.\n",
    "    '''\n",
    "    data = pd.read_csv(path)\n",
    "    t = data.shape[0]\n",
    "    if estilo==\"d\":\n",
    "        valores_d = []\n",
    "        for i in range(t):\n",
    "            p = np.log(data[\"Close\"][i]/data[\"Open\"][i])\n",
    "            valores_d.append(float(p))\n",
    "    elif estilo==\"s\":\n",
    "        valores_d = []\n",
    "        for i in range(7, t):\n",
    "            p = np.log(data[\"Close\"][i]/data[\"Open\"][i-7])\n",
    "            valores_d.append(float(p))\n",
    "    elif estilo==\"m\":\n",
    "        valores_d = []\n",
    "        for i in range(30, t):\n",
    "            p = np.log(data[\"Close\"][i]/data[\"Open\"][i-30])\n",
    "            valores_d.append(float(p))\n",
    "\n",
    "    # Calculando media e desvio padrao\n",
    "    mean = np.mean(valores_d)\n",
    "    std_dev = np.std(valores_d)\n",
    "    plt.hist(valores_d, bins=20)\n",
    "    test_norm = sp.stats.shapiro(valores_d)\n",
    "    if estilo==\"d\":\n",
    "        plt.title(f\"Diário: {path[:-4]} 2015-2020\")\n",
    "    elif estilo==\"s\":\n",
    "        plt.title(f\"Semanal: {path[:-4]} 2015-2020\")\n",
    "    elif estilo==\"m\":\n",
    "        plt.title(f\"Mensal: {path[:-4]} 2015-2020\")\n",
    "    plt.axvline(mean, color='r', linestyle='dashed', linewidth=2, label='Média')\n",
    "\n",
    "    # Calcular os limites superior e inferior do desvio padrão\n",
    "    upper_bound = mean + std_dev\n",
    "    lower_bound = mean - std_dev\n",
    "\n",
    "    # Adicionar linhas verticais para os limites do desvio padrão\n",
    "    plt.axvline(upper_bound, color='g', linestyle='dashed', linewidth=2, label='Desvio Padrão')\n",
    "    plt.axvline(lower_bound, color='g', linestyle='dashed', linewidth=2)\n",
    "\n",
    "    # Teste de normalidade\n",
    "    print(f\"Teste de normalidade Shapiro Wilk: {test_norm}\")"
   ],
   "metadata": {
    "collapsed": false
   }
  },
  {
   "cell_type": "code",
   "execution_count": 5,
   "outputs": [
    {
     "name": "stdout",
     "output_type": "stream",
     "text": [
      "Teste de normalidade Shapiro Wilk: ShapiroResult(statistic=0.9884149432182312, pvalue=1.9716392074542455e-08)\n"
     ]
    },
    {
     "data": {
      "text/plain": "<Figure size 640x480 with 1 Axes>",
      "image/png": "[encoded data removed]"
     },
     "metadata": {},
     "output_type": "display_data"
    }
   ],
   "source": [
    "plot_data(\"ITUB.csv\", estilo=\"d\")"
   ],
   "metadata": {
    "collapsed": false
   }
  },
  {
   "cell_type": "code",
   "execution_count": null,
   "outputs": [],
   "source": [],
   "metadata": {
    "collapsed": false
   }
  }
 ],
 "metadata": {
  "kernelspec": {
   "display_name": "Python 3",
   "language": "python",
   "name": "python3"
  },
  "language_info": {
   "codemirror_mode": {
    "name": "ipython",
    "version": 2
   },
   "file_extension": ".py",
   "mimetype": "text/x-python",
   "name": "python",
   "nbconvert_exporter": "python",
   "pygments_lexer": "ipython2",
   "version": "2.7.6"
  }
 },
 "nbformat": 4,
 "nbformat_minor": 0
}
