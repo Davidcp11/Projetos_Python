{
 "cells": [
  {
   "cell_type": "code",
   "execution_count": 4,
   "metadata": {
    "id": "YKSMPGH_gMvk",
    "executionInfo": {
     "status": "error",
     "timestamp": 1697560823579,
     "user_tz": 180,
     "elapsed": 5,
     "user": {
      "displayName": "David Costa Pereira",
      "userId": "04376391223948256319"
     }
    },
    "outputId": "d5a9d798-722a-4d95-f31d-b742de51e554",
    "colab": {
     "base_uri": "https://localhost:8080/",
     "height": 367
    }
   },
   "outputs": [],
   "source": [
    "from transformers import AutoTokenizer, BertForSequenceClassification\n",
    "import numpy as np\n",
    "import matplotlib.pyplot as plt\n",
    "from Teste_extracao import extract_sentences_from_pdf"
   ]
  },
  {
   "cell_type": "code",
   "execution_count": 5,
   "metadata": {
    "id": "hC9D4XMJgMvm"
   },
   "outputs": [],
   "source": [
    "pred_mapper = {\n",
    "    0: \"POSITIVE\",\n",
    "    1: \"NEGATIVE\",\n",
    "    2: \"NEUTRAL\"\n",
    "}\n",
    "tokenizer = AutoTokenizer.from_pretrained(\"lucas-leme/FinBERT-PT-BR\")\n",
    "finbertptbr = BertForSequenceClassification.from_pretrained(\"lucas-leme/FinBERT-PT-BR\")"
   ]
  },
  {
   "cell_type": "code",
   "execution_count": 6,
   "metadata": {
    "id": "Tfh39A19gMvn"
   },
   "outputs": [],
   "source": [
    "import fitz  # PyMuPDF\n",
    "import re\n",
    "import csv  # Importe o módulo csv\n",
    "from datetime import datetime\n",
    "import locale\n",
    "locale.setlocale(locale.LC_TIME, 'pt_BR.UTF-8')\n",
    "\n",
    "def preproc(path):\n",
    "\tfile = path\n",
    "\t### Analise\n",
    "\t# Abra o arquivo PDF\n",
    "\tdoc = fitz.open(file)\n",
    "\n",
    "\t# Extrair texto da página desejada (por exemplo, a primeira página)\n",
    "\tpage = doc[0]\n",
    "\n",
    "\ttext = page.get_text()\n",
    "\n",
    "\tlines = text.split('\\n')\n",
    "\n",
    "\t# Verifique se há pelo menos 8 linhas e acesse a oitava linha para extrair a data\n",
    "\tif len(lines) >= 8:\n",
    "\t\tdata_corr = lines[6]\n",
    "\t\tdata_correspondente = data_corr.replace(\"º\", \"\")\n",
    "\t\tprint(data_correspondente)\n",
    "\t\tdata_match = re.search(r'\\d+\\s+de\\s+[a-zA-Z]+\\s+de\\s+\\d{4}', data_correspondente)\n",
    "\t\tprint(data_match)\n",
    "\t\tif data_match:\n",
    "\t\t\tdata_texto = data_match.group()\n",
    "\t\t\tdata_formatada = datetime.strptime(data_texto, \"%d de %B de %Y\").strftime(\"%Y-%m-%d\")\n",
    "\t\t\tprint(\"Data:\", data_formatada)\n",
    "\t\telse:\n",
    "\t\t\tdata_corr = lines[8]\n",
    "\t\t\tdata_correspondente = data_corr.replace(\"º\", \"\")\n",
    "\t\t\tprint(data_correspondente)\n",
    "\t\t\tdata_match = re.search(r'\\d+\\s+de\\s+[a-zA-Z]+\\s+de\\s+\\d{4}', data_correspondente)\n",
    "\t\t\tprint(data_match)\n",
    "\t\t\tif data_match:\n",
    "\t\t\t\tdata_texto = data_match.group()\n",
    "\t\t\t\tdata_formatada = datetime.strptime(data_texto, \"%d de %B de %Y\").strftime(\"%Y-%m-%d\")\n",
    "\t\t\t\tprint(\"Data:\", data_formatada)\n",
    "\telse:\n",
    "\t\tprint(\"Não há informações suficientes nas linhas do PDF para extrair a data da sétima linha.\")\n",
    "\n",
    "\t#sentencas = extract_sentences_from_pdf(file)[701:779]\n",
    "\tsentencas = extract_sentences_from_pdf(file)\n",
    "\ttokens = tokenizer(sentencas , return_tensors=\"pt\",\n",
    "\t\t\t\t\tpadding=True, truncation=True, max_length=512)\n",
    "\tfinbertptbr_outputs = finbertptbr(**tokens)\n",
    "\n",
    "\tpreds = [pred_mapper[np.argmax(pred)] for pred in finbertptbr_outputs.logits.cpu().detach().numpy()]\n",
    "\tprint(preds)\n",
    "\n",
    "\tPosi = 0\n",
    "\tNeg = 0\n",
    "\tNeutral = 0\n",
    "\tfor t in preds:\n",
    "\t\tif t ==\"POSITIVE\":\n",
    "\t\t\tPosi+=1\n",
    "\t\telif t == \"NEGATIVE\":\n",
    "\t\t\tNeg+=1\n",
    "\t\telse:\n",
    "\t\t\tNeutral+=1\n",
    "\tprint(Posi, Neutral, Neg)\n",
    "\n",
    "\tindice =((Posi - Neg) / (Posi + Neg + Neutral))\n",
    "\t# Salvar os resultados em um arquivo CSV\n",
    "\twith open(\"resultados.csv\", mode=\"a\", newline=\"\") as file:\n",
    "\t\twriter = csv.writer(file)\n",
    "\t\t#writer.writerow([\"Data da reuniao\", \"positivo\", \"negativo\", \"neutro\", \"indice\"])\n",
    "\t\twriter.writerow([data_formatada, Posi, Neg, Neutral, indice])\n",
    "\n",
    "\n",
    "\tprint(\"Resultados salvos em 'resultados.csv'.\")\n"
   ]
  },
  {
   "cell_type": "code",
   "execution_count": 7,
   "metadata": {
    "id": "U5fAbavNgMvn",
    "outputId": "c0f481f2-5ddf-4c7c-c5be-7f87dd475cc2"
   },
   "outputs": [
    {
     "name": "stdout",
     "output_type": "stream",
     "text": [
      "O evento de hoje será dividido em duas partes. Na primeira, o Milton explicará a nossa \n",
      "None\n",
      "de perguntas e respostas, em que analistas e investidores poderão interagir diretamente \n",
      "None\n"
     ]
    },
    {
     "name": "stderr",
     "output_type": "stream",
     "text": [
      "\n",
      "KeyboardInterrupt\n",
      "\n"
     ]
    }
   ],
   "source": [
    "'''for trimestre in [ \"4T15\"]:\n",
    "    file_path = f\"G:\\\\Meu Drive\\\\IC - NLP\\\\Textos perguntas e respostas de resultados\\\\Itau - 2013-2023\\\\transcrição do áudio {trimestre}.pdf\"\n",
    "    preproc(file_path)'''\n",
    "preproc(\"Transcricao_do_audio1T23.pdf\")"
   ]
  },
  {
   "cell_type": "code",
   "execution_count": null,
   "metadata": {
    "id": "bx15xThOgMvo",
    "outputId": "bf9cb424-c0af-473e-c0cd-441425aec5cf"
   },
   "outputs": [
    {
     "name": "stdout",
     "output_type": "stream",
     "text": [
      "30 de outubro de 2018 \n",
      "<re.Match object; span=(0, 21), match='30 de outubro de 2018'>\n",
      "Data: 2018-10-30\n",
      "['NEUTRAL', 'NEUTRAL', 'NEUTRAL', 'NEUTRAL', 'NEUTRAL', 'NEUTRAL', 'NEUTRAL', 'NEUTRAL', 'NEUTRAL', 'NEUTRAL', 'NEUTRAL', 'NEUTRAL', 'NEUTRAL', 'NEUTRAL', 'NEUTRAL', 'NEUTRAL', 'NEUTRAL', 'POSITIVE', 'POSITIVE', 'NEGATIVE', 'NEGATIVE', 'NEGATIVE', 'POSITIVE', 'POSITIVE', 'NEGATIVE', 'POSITIVE', 'POSITIVE', 'NEGATIVE', 'NEUTRAL', 'POSITIVE', 'POSITIVE', 'POSITIVE', 'POSITIVE', 'POSITIVE', 'POSITIVE', 'POSITIVE', 'POSITIVE', 'POSITIVE', 'POSITIVE', 'NEUTRAL', 'POSITIVE', 'POSITIVE', 'POSITIVE', 'POSITIVE', 'NEUTRAL', 'NEGATIVE', 'NEGATIVE', 'NEUTRAL', 'POSITIVE', 'POSITIVE', 'NEUTRAL', 'POSITIVE', 'POSITIVE', 'POSITIVE', 'NEGATIVE', 'POSITIVE', 'NEUTRAL', 'POSITIVE', 'NEUTRAL', 'POSITIVE', 'POSITIVE', 'POSITIVE', 'NEGATIVE', 'POSITIVE', 'POSITIVE', 'NEGATIVE', 'POSITIVE', 'NEGATIVE', 'NEGATIVE', 'POSITIVE', 'NEGATIVE', 'NEUTRAL', 'POSITIVE', 'POSITIVE', 'NEGATIVE', 'NEUTRAL', 'POSITIVE', 'POSITIVE', 'NEGATIVE', 'POSITIVE', 'NEUTRAL', 'POSITIVE', 'POSITIVE', 'POSITIVE', 'NEUTRAL', 'NEUTRAL', 'NEUTRAL', 'NEUTRAL', 'NEUTRAL', 'POSITIVE', 'NEUTRAL', 'NEUTRAL', 'NEUTRAL', 'NEGATIVE', 'NEUTRAL', 'NEUTRAL', 'NEUTRAL', 'NEUTRAL', 'NEGATIVE', 'NEUTRAL', 'NEGATIVE', 'NEUTRAL', 'NEGATIVE', 'NEUTRAL', 'POSITIVE', 'NEUTRAL', 'NEGATIVE', 'NEGATIVE', 'POSITIVE', 'NEUTRAL', 'NEUTRAL', 'NEUTRAL', 'NEUTRAL', 'NEUTRAL', 'NEUTRAL', 'NEUTRAL', 'NEUTRAL', 'NEUTRAL', 'POSITIVE', 'NEUTRAL', 'POSITIVE', 'NEGATIVE', 'NEUTRAL', 'NEGATIVE', 'NEUTRAL', 'NEUTRAL', 'NEUTRAL', 'NEUTRAL', 'POSITIVE', 'NEUTRAL', 'NEUTRAL', 'NEUTRAL', 'POSITIVE', 'POSITIVE', 'POSITIVE', 'NEUTRAL', 'NEUTRAL', 'NEUTRAL', 'NEUTRAL', 'NEUTRAL', 'NEUTRAL', 'NEUTRAL', 'NEUTRAL', 'NEUTRAL', 'POSITIVE', 'NEUTRAL', 'NEUTRAL', 'NEUTRAL', 'NEGATIVE', 'POSITIVE', 'POSITIVE', 'NEUTRAL', 'NEUTRAL', 'NEUTRAL', 'NEGATIVE', 'NEUTRAL', 'NEUTRAL', 'NEUTRAL', 'NEUTRAL', 'NEUTRAL', 'NEUTRAL', 'NEUTRAL', 'NEUTRAL', 'NEUTRAL', 'NEUTRAL', 'POSITIVE', 'NEUTRAL', 'NEUTRAL', 'NEUTRAL', 'NEUTRAL', 'NEGATIVE', 'NEGATIVE', 'POSITIVE', 'NEUTRAL', 'NEGATIVE', 'NEUTRAL', 'NEUTRAL', 'NEUTRAL', 'NEUTRAL', 'NEUTRAL', 'NEUTRAL', 'NEUTRAL', 'NEUTRAL', 'NEUTRAL', 'NEUTRAL', 'NEUTRAL', 'NEUTRAL', 'NEUTRAL', 'NEGATIVE', 'NEUTRAL', 'POSITIVE', 'NEUTRAL', 'NEUTRAL', 'POSITIVE', 'POSITIVE', 'POSITIVE', 'NEUTRAL', 'NEUTRAL', 'POSITIVE', 'NEUTRAL', 'NEUTRAL', 'NEUTRAL', 'NEUTRAL', 'POSITIVE', 'NEUTRAL', 'NEUTRAL', 'POSITIVE', 'NEUTRAL', 'NEUTRAL', 'NEUTRAL', 'NEUTRAL', 'NEUTRAL', 'NEUTRAL', 'NEUTRAL', 'NEGATIVE', 'NEUTRAL', 'POSITIVE', 'NEUTRAL', 'NEUTRAL', 'NEGATIVE', 'NEGATIVE', 'NEGATIVE', 'NEUTRAL', 'NEUTRAL', 'NEUTRAL', 'NEUTRAL', 'NEUTRAL', 'NEGATIVE', 'NEUTRAL', 'NEUTRAL', 'NEUTRAL', 'NEUTRAL', 'NEUTRAL', 'NEUTRAL', 'NEUTRAL', 'POSITIVE', 'NEGATIVE', 'NEUTRAL', 'NEUTRAL', 'NEUTRAL', 'NEUTRAL', 'POSITIVE', 'POSITIVE', 'NEUTRAL', 'NEUTRAL', 'POSITIVE', 'NEUTRAL', 'NEGATIVE', 'NEUTRAL', 'POSITIVE', 'NEGATIVE', 'NEGATIVE', 'NEGATIVE', 'NEGATIVE', 'NEUTRAL', 'NEUTRAL', 'NEUTRAL', 'NEUTRAL', 'NEUTRAL', 'NEUTRAL', 'NEUTRAL', 'NEUTRAL', 'NEUTRAL', 'NEUTRAL', 'NEUTRAL', 'POSITIVE', 'NEUTRAL', 'NEUTRAL', 'NEUTRAL', 'NEUTRAL', 'POSITIVE']\n",
      "71 160 40\n",
      "Resultados salvos em 'resultados.csv'.\n"
     ]
    }
   ],
   "source": [
    "#preproc(\"G:\\\\Meu Drive\\\\IC - NLP\\\\Textos perguntas e respostas de resultados\\\\Itau - 2013-2023\\\\transcrição do áudio 1T16.pdf\")\n",
    "#preproc(\"G:\\\\Meu Drive\\\\IC - NLP\\\\Textos perguntas e respostas de resultados\\\\Itau - 2013-2023\\\\transcrição do áudio 2T16.pdf\")\n",
    "#preproc(\"G:\\\\Meu Drive\\\\IC - NLP\\\\Textos perguntas e respostas de resultados\\\\Itau - 2013-2023\\\\transcrição do áudio 2T17.pdf\")\n",
    "preproc(\"G:\\\\Meu Drive\\\\IC - NLP\\\\Textos perguntas e respostas de resultados\\\\Itau - 2013-2023\\\\transcrição do áudio 3T18.pdf\")\n",
    "#preproc(\"G:\\\\Meu Drive\\\\IC - NLP\\\\Textos perguntas e respostas de resultados\\\\Itau - 2013-2023\\\\transcrição do áudio 2T19.pdf\")\n",
    "#preproc(\"G:\\\\Meu Drive\\\\IC - NLP\\\\Textos perguntas e respostas de resultados\\\\Itau - 2013-2023\\\\transcrição do áudio 3T19.pdf\")\n",
    "#preproc(\"G:\\\\Meu Drive\\\\IC - NLP\\\\Textos perguntas e respostas de resultados\\\\Itau - 2013-2023\\\\transcrição do áudio 4T19.pdf\")"
   ]
  },
  {
   "cell_type": "code",
   "execution_count": null,
   "metadata": {
    "id": "XnRVyIbfgMvo"
   },
   "outputs": [],
   "source": [
    "sentencas = extract_sentences_from_pdf(\"Transcricao_do_audio1T23.pdf\")[701:779]\n",
    "tokens = tokenizer(sentencas , return_tensors=\"pt\",\n",
    "                   padding=True, truncation=True, max_length=512)\n",
    "finbertptbr_outputs = finbertptbr(**tokens)"
   ]
  },
  {
   "cell_type": "code",
   "execution_count": null,
   "metadata": {
    "id": "qMy6GIN6gMvp"
   },
   "outputs": [],
   "source": [
    "preds = [pred_mapper[np.argmax(pred)] for pred in finbertptbr_outputs.logits.cpu().detach().numpy()]\n",
    "print(preds)"
   ]
  },
  {
   "cell_type": "code",
   "execution_count": null,
   "metadata": {
    "id": "HHKM_WVOgMvp",
    "outputId": "2e053077-8e29-4489-c233-16b4b9c71a21"
   },
   "outputs": [
    {
     "name": "stdout",
     "output_type": "stream",
     "text": [
      "2 2 1\n"
     ]
    }
   ],
   "source": [
    "Posi = 0\n",
    "Neg = 0\n",
    "Neutral = 0\n",
    "for t in preds:\n",
    "    if t ==\"POSITIVE\":\n",
    "        Posi+=1\n",
    "    elif t == \"NEGATIVE\":\n",
    "        Neg+=1\n",
    "    else:\n",
    "        Neutral+=1\n",
    "print(Posi, Neutral, Neg)"
   ]
  },
  {
   "cell_type": "code",
   "execution_count": null,
   "metadata": {
    "id": "JuFhMss9gMvp",
    "outputId": "6aefb4e4-322f-40f6-c0d4-f1889e6589cc"
   },
   "outputs": [
    {
     "name": "stdout",
     "output_type": "stream",
     "text": [
      "Positivos: 2\n",
      "Neutros: 2\n",
      "Negativos: 1\n",
      "Resultados salvos em 'resultados.csv'.\n"
     ]
    }
   ],
   "source": [
    "import csv\n",
    "\n",
    "Posi = 0\n",
    "Neg = 0\n",
    "Neutral = 0\n",
    "preds = [\"POSITIVE\", \"NEUTRAL\", \"POSITIVE\", \"NEGATIVE\", \"NEUTRAL\"]  # Exemplo de valores de preds\n",
    "\n",
    "for t in preds:\n",
    "    if t == \"POSITIVE\":\n",
    "        Posi += 1\n",
    "    elif t == \"NEGATIVE\":\n",
    "        Neg += 1\n",
    "    else:\n",
    "        Neutral += 1\n",
    "\n",
    "print(\"Positivos:\", Posi)\n",
    "print(\"Neutros:\", Neutral)\n",
    "print(\"Negativos:\", Neg)\n",
    "\n",
    "indice =((Posi - Neg) / (Posi + Neg + Neutral))\n",
    "# Salvar os resultados em um arquivo CSV\n",
    "with open(\"resultados.csv\", mode=\"w\", newline=\"\") as file:\n",
    "    writer = csv.writer(file)\n",
    "    writer.writerow([\"Data da reuniao\", \"positivo\", \"negativo\", \"neutro\", \"indice\"])\n",
    "    writer.writerow([data_formatada, Posi, Neg, Neutral, indice])\n",
    "\n",
    "\n",
    "print(\"Resultados salvos em 'resultados.csv'.\")\n"
   ]
  },
  {
   "cell_type": "code",
   "execution_count": null,
   "metadata": {
    "id": "QDAWPEaQgMvq",
    "outputId": "29d6735b-2def-4b46-d715-71680f6f29e1"
   },
   "outputs": [
    {
     "name": "stdout",
     "output_type": "stream",
     "text": [
      "Data: 2019-07-29\n"
     ]
    }
   ],
   "source": [
    "import fitz  # PyMuPDF\n",
    "import re\n",
    "from datetime import datetime\n",
    "import locale\n",
    "locale.setlocale(locale.LC_TIME, 'pt_BR.UTF-8')\n",
    "\n",
    "\n",
    "# Abra o arquivo PDF\n",
    "doc = fitz.open(\"G:\\\\Meu Drive\\\\IC - NLP\\\\Textos perguntas e respostas de resultados\\\\Itau - 2013-2023\\\\transcrição do áudio 2T19.pdf\")\n",
    "\n",
    "# Extrair texto da página desejada (por exemplo, a primeira página)\n",
    "page = doc[0]\n",
    "\n",
    "text = page.get_text()\n",
    "\n",
    "lines = text.split('\\n')\n",
    "\n",
    "# Verifique se há pelo menos 8 linhas e acesse a oitava linha para extrair a data\n",
    "if len(lines) >= 8:\n",
    "    data_correspondente = lines[6]\n",
    "    data_match = re.search(r'\\d+\\s+de\\s+[a-zA-Z]+\\s+de\\s+\\d{4}', data_correspondente)\n",
    "\n",
    "    if data_match:\n",
    "        data_texto = data_match.group()\n",
    "        data_formatada = datetime.strptime(data_texto, \"%d de %B de %Y\").strftime(\"%Y-%m-%d\")\n",
    "        print(\"Data:\", data_formatada)\n",
    "    else:\n",
    "        print(\"Data não encontrada na sétima linha.\")\n",
    "else:\n",
    "    print(\"Não há informações suficientes nas linhas do PDF para extrair a data da sétima linha.\")\n"
   ]
  }
 ],
 "metadata": {
  "kernelspec": {
   "display_name": "Python 3",
   "language": "python",
   "name": "python3"
  },
  "language_info": {
   "codemirror_mode": {
    "name": "ipython",
    "version": 3
   },
   "file_extension": ".py",
   "mimetype": "text/x-python",
   "name": "python",
   "nbconvert_exporter": "python",
   "pygments_lexer": "ipython3",
   "version": "3.8.5"
  },
  "colab": {
   "provenance": []
  }
 },
 "nbformat": 4,
 "nbformat_minor": 0
}
