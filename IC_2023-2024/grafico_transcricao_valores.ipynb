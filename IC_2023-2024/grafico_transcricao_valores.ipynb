{
 "cells": [
  {
   "cell_type": "code",
   "execution_count": 2,
   "metadata": {
    "collapsed": true
   },
   "outputs": [],
   "source": [
    "import pandas as pd\n",
    "import numpy as np\n",
    "from datetime import datetime"
   ]
  },
  {
   "cell_type": "code",
   "execution_count": 3,
   "outputs": [],
   "source": [
    "nomes_empresas = {\n",
    "    \"brf\":\"BRFS3.SA\",\n",
    "    \"bradesco\":\"BBDC4.SA\",\n",
    "    \"natura\":\"NTCO3.SA\",\n",
    "    \"hapvida\":\"HAPV3.SA\",\n",
    "    \"magazine_luiza\":\"MGLU3.SA\",\n",
    "    \"santander\":\"SANB11.SA\",\n",
    "    \"gol\":\"GOLL4.SA\",\n",
    "    \"ccr\":\"CCRO3.SA\",\n",
    "    \"locaweb\":\"LWSA3.SA\",\n",
    "    \"mrv_engenharia\":\"MRVE3.SA\",\n",
    "    \"itau\":\"ITUB4.SA\",\n",
    "    \"vale\":\"VALE3.SA\",\n",
    "    \"azul\":\"AZUL4.SA\",\n",
    "    \"BB\":\"BBAS3.SA\",\n",
    "    \"petrobras\":\"PETR4.SA\"\n",
    "}\n",
    "\n",
    "columns_name = {\n",
    "    'empresa': [],\n",
    "    'data': [],\n",
    "    'data_formatada': [],\n",
    "    'Open':[],\n",
    "    'High':[],\n",
    "    'Low':[],\n",
    "    'Close':[],\n",
    "    'Volume':[],\n",
    "    'retorno_diario': [],\n",
    "    'retorno_diario_2d': [],\n",
    "    'posi': [],\n",
    "    'ind_posi': [],\n",
    "    'neg': [],\n",
    "    'ind_neg': [],\n",
    "    'neu': [],\n",
    "    'ind_neu': [],\n",
    "    'indice':[]\n",
    "}"
   ],
   "metadata": {
    "collapsed": false
   }
  },
  {
   "cell_type": "code",
   "execution_count": 7,
   "outputs": [
    {
     "data": {
      "text/plain": "       empresa        data data_formatada       Open       High        Low  \\\n0          brf  2017-11-09     2017-11-10  43.459999  43.459999  41.939999   \n1          brf  2017-11-10     2017-11-10  43.750000  43.750000  40.599998   \n2          brf  2017-11-13     2017-11-10  41.599998  42.009998  40.029999   \n3          brf  2022-02-24     2022-02-25  17.780001  17.780001  16.799999   \n4          brf  2022-02-25     2022-02-25  17.379999  17.500000  16.570000   \n..         ...         ...            ...        ...        ...        ...   \n814  petrobras  2013-02-05     2013-02-05  17.280001  18.290001  17.260000   \n815  petrobras  2013-02-06     2013-02-05  17.930000  18.000000  17.530001   \n816  petrobras  2021-02-24     2021-02-25  24.549999  25.000000  24.010000   \n817  petrobras  2021-02-25     2021-02-25  25.000000  25.250000  23.100000   \n818  petrobras  2021-02-26     2021-02-25  23.200001  23.420000  21.969999   \n\n         Close       Volume  retorno_diario  retorno_diario_2d   posi  \\\n0    43.000000    1882000.0        0.010641           0.011263  118.0   \n1    41.020000    7369400.0        0.064432          -0.033100  118.0   \n2    41.900002    3445600.0       -0.007186           0.024800  118.0   \n3    17.340000   19858300.0        0.025058          -0.060286  126.0   \n4    16.709999   15965100.0        0.039313          -0.074197  126.0   \n..         ...          ...             ...                ...    ...   \n814  18.080000   77332900.0       -0.045257          -0.003896  120.0   \n815  17.600000   30886100.0        0.018576          -0.018421  120.0   \n816  24.400000  155246400.0        0.006129           0.038325  224.0   \n817  23.190001  170233000.0        0.075155          -0.050431  224.0   \n818  22.240000  159881000.0        0.042260          -0.016961  224.0   \n\n     ind_posi   neg   ind_neg    neu   ind_neu    indice  \n0    0.324176  25.0  0.068681  221.0  0.607143  0.255495  \n1    0.324176  25.0  0.068681  221.0  0.607143  0.255495  \n2    0.324176  25.0  0.068681  221.0  0.607143  0.255495  \n3    0.275109  55.0  0.120087  277.0  0.604803  0.155022  \n4    0.275109  55.0  0.120087  277.0  0.604803  0.155022  \n..        ...   ...       ...    ...       ...       ...  \n814  0.233010  94.0  0.182524  301.0  0.584466  0.050485  \n815  0.233010  94.0  0.182524  301.0  0.584466  0.050485  \n816  0.432432  75.0  0.144788  219.0  0.422780  0.287645  \n817  0.432432  75.0  0.144788  219.0  0.422780  0.287645  \n818  0.432432  75.0  0.144788  219.0  0.422780  0.287645  \n\n[819 rows x 17 columns]",
      "text/html": "<div>\n<style scoped>\n    .dataframe tbody tr th:only-of-type {\n        vertical-align: middle;\n    }\n\n    .dataframe tbody tr th {\n        vertical-align: top;\n    }\n\n    .dataframe thead th {\n        text-align: right;\n    }\n</style>\n<table border=\"1\" class=\"dataframe\">\n  <thead>\n    <tr style=\"text-align: right;\">\n      <th></th>\n      <th>empresa</th>\n      <th>data</th>\n      <th>data_formatada</th>\n      <th>Open</th>\n      <th>High</th>\n      <th>Low</th>\n      <th>Close</th>\n      <th>Volume</th>\n      <th>retorno_diario</th>\n      <th>retorno_diario_2d</th>\n      <th>posi</th>\n      <th>ind_posi</th>\n      <th>neg</th>\n      <th>ind_neg</th>\n      <th>neu</th>\n      <th>ind_neu</th>\n      <th>indice</th>\n    </tr>\n  </thead>\n  <tbody>\n    <tr>\n      <th>0</th>\n      <td>brf</td>\n      <td>2017-11-09</td>\n      <td>2017-11-10</td>\n      <td>43.459999</td>\n      <td>43.459999</td>\n      <td>41.939999</td>\n      <td>43.000000</td>\n      <td>1882000.0</td>\n      <td>0.010641</td>\n      <td>0.011263</td>\n      <td>118.0</td>\n      <td>0.324176</td>\n      <td>25.0</td>\n      <td>0.068681</td>\n      <td>221.0</td>\n      <td>0.607143</td>\n      <td>0.255495</td>\n    </tr>\n    <tr>\n      <th>1</th>\n      <td>brf</td>\n      <td>2017-11-10</td>\n      <td>2017-11-10</td>\n      <td>43.750000</td>\n      <td>43.750000</td>\n      <td>40.599998</td>\n      <td>41.020000</td>\n      <td>7369400.0</td>\n      <td>0.064432</td>\n      <td>-0.033100</td>\n      <td>118.0</td>\n      <td>0.324176</td>\n      <td>25.0</td>\n      <td>0.068681</td>\n      <td>221.0</td>\n      <td>0.607143</td>\n      <td>0.255495</td>\n    </tr>\n    <tr>\n      <th>2</th>\n      <td>brf</td>\n      <td>2017-11-13</td>\n      <td>2017-11-10</td>\n      <td>41.599998</td>\n      <td>42.009998</td>\n      <td>40.029999</td>\n      <td>41.900002</td>\n      <td>3445600.0</td>\n      <td>-0.007186</td>\n      <td>0.024800</td>\n      <td>118.0</td>\n      <td>0.324176</td>\n      <td>25.0</td>\n      <td>0.068681</td>\n      <td>221.0</td>\n      <td>0.607143</td>\n      <td>0.255495</td>\n    </tr>\n    <tr>\n      <th>3</th>\n      <td>brf</td>\n      <td>2022-02-24</td>\n      <td>2022-02-25</td>\n      <td>17.780001</td>\n      <td>17.780001</td>\n      <td>16.799999</td>\n      <td>17.340000</td>\n      <td>19858300.0</td>\n      <td>0.025058</td>\n      <td>-0.060286</td>\n      <td>126.0</td>\n      <td>0.275109</td>\n      <td>55.0</td>\n      <td>0.120087</td>\n      <td>277.0</td>\n      <td>0.604803</td>\n      <td>0.155022</td>\n    </tr>\n    <tr>\n      <th>4</th>\n      <td>brf</td>\n      <td>2022-02-25</td>\n      <td>2022-02-25</td>\n      <td>17.379999</td>\n      <td>17.500000</td>\n      <td>16.570000</td>\n      <td>16.709999</td>\n      <td>15965100.0</td>\n      <td>0.039313</td>\n      <td>-0.074197</td>\n      <td>126.0</td>\n      <td>0.275109</td>\n      <td>55.0</td>\n      <td>0.120087</td>\n      <td>277.0</td>\n      <td>0.604803</td>\n      <td>0.155022</td>\n    </tr>\n    <tr>\n      <th>...</th>\n      <td>...</td>\n      <td>...</td>\n      <td>...</td>\n      <td>...</td>\n      <td>...</td>\n      <td>...</td>\n      <td>...</td>\n      <td>...</td>\n      <td>...</td>\n      <td>...</td>\n      <td>...</td>\n      <td>...</td>\n      <td>...</td>\n      <td>...</td>\n      <td>...</td>\n      <td>...</td>\n      <td>...</td>\n    </tr>\n    <tr>\n      <th>814</th>\n      <td>petrobras</td>\n      <td>2013-02-05</td>\n      <td>2013-02-05</td>\n      <td>17.280001</td>\n      <td>18.290001</td>\n      <td>17.260000</td>\n      <td>18.080000</td>\n      <td>77332900.0</td>\n      <td>-0.045257</td>\n      <td>-0.003896</td>\n      <td>120.0</td>\n      <td>0.233010</td>\n      <td>94.0</td>\n      <td>0.182524</td>\n      <td>301.0</td>\n      <td>0.584466</td>\n      <td>0.050485</td>\n    </tr>\n    <tr>\n      <th>815</th>\n      <td>petrobras</td>\n      <td>2013-02-06</td>\n      <td>2013-02-05</td>\n      <td>17.930000</td>\n      <td>18.000000</td>\n      <td>17.530001</td>\n      <td>17.600000</td>\n      <td>30886100.0</td>\n      <td>0.018576</td>\n      <td>-0.018421</td>\n      <td>120.0</td>\n      <td>0.233010</td>\n      <td>94.0</td>\n      <td>0.182524</td>\n      <td>301.0</td>\n      <td>0.584466</td>\n      <td>0.050485</td>\n    </tr>\n    <tr>\n      <th>816</th>\n      <td>petrobras</td>\n      <td>2021-02-24</td>\n      <td>2021-02-25</td>\n      <td>24.549999</td>\n      <td>25.000000</td>\n      <td>24.010000</td>\n      <td>24.400000</td>\n      <td>155246400.0</td>\n      <td>0.006129</td>\n      <td>0.038325</td>\n      <td>224.0</td>\n      <td>0.432432</td>\n      <td>75.0</td>\n      <td>0.144788</td>\n      <td>219.0</td>\n      <td>0.422780</td>\n      <td>0.287645</td>\n    </tr>\n    <tr>\n      <th>817</th>\n      <td>petrobras</td>\n      <td>2021-02-25</td>\n      <td>2021-02-25</td>\n      <td>25.000000</td>\n      <td>25.250000</td>\n      <td>23.100000</td>\n      <td>23.190001</td>\n      <td>170233000.0</td>\n      <td>0.075155</td>\n      <td>-0.050431</td>\n      <td>224.0</td>\n      <td>0.432432</td>\n      <td>75.0</td>\n      <td>0.144788</td>\n      <td>219.0</td>\n      <td>0.422780</td>\n      <td>0.287645</td>\n    </tr>\n    <tr>\n      <th>818</th>\n      <td>petrobras</td>\n      <td>2021-02-26</td>\n      <td>2021-02-25</td>\n      <td>23.200001</td>\n      <td>23.420000</td>\n      <td>21.969999</td>\n      <td>22.240000</td>\n      <td>159881000.0</td>\n      <td>0.042260</td>\n      <td>-0.016961</td>\n      <td>224.0</td>\n      <td>0.432432</td>\n      <td>75.0</td>\n      <td>0.144788</td>\n      <td>219.0</td>\n      <td>0.422780</td>\n      <td>0.287645</td>\n    </tr>\n  </tbody>\n</table>\n<p>819 rows × 17 columns</p>\n</div>"
     },
     "execution_count": 7,
     "metadata": {},
     "output_type": "execute_result"
    }
   ],
   "source": [
    "transcricao = pd.read_csv(\"Dados_relatorios_tratados.csv\")\n",
    "transcricao"
   ],
   "metadata": {
    "collapsed": false
   }
  },
  {
   "cell_type": "code",
   "execution_count": 35,
   "outputs": [
    {
     "data": {
      "text/plain": "       Empresa Trimestre data_formatada  Posi   pos_ind  Neg   neg_ind  \\\n4     bradesco   2017-3T         3T2017    64  0.297674   32  0.148837   \n5     bradesco   2017-1T         1T2017    83  0.261830   65  0.205047   \n6     bradesco   2016-3T         3T2016   183  0.340149   99  0.184015   \n7     bradesco   2015-3T         3T2015    33  0.103448   62  0.194357   \n8     bradesco   2016-4T         4T2016   139  0.227124   97  0.158497   \n..         ...       ...            ...   ...       ...  ...       ...   \n164  petrobras   2022-2T         2T2022   168  0.336000   75  0.150000   \n165  petrobras   2018-1T         1T2018    50  0.191571   31  0.118774   \n166  petrobras   2022-4T         4T2022   170  0.409639   49  0.118072   \n167  petrobras   2016-4T         4T2016    86  0.143333   64  0.106667   \n168  petrobras   2015-4T         4T2015    90  0.130435  117  0.169565   \n\n     Neutral   neu_ind    indice  \n4        119  0.553488  0.148837  \n5        169  0.533123  0.056782  \n6        256  0.475836  0.156134  \n7        224  0.702194 -0.090909  \n8        376  0.614379  0.068627  \n..       ...       ...       ...  \n164      257  0.514000  0.186000  \n165      180  0.689655  0.072797  \n166      196  0.472289  0.291566  \n167      450  0.750000  0.036667  \n168      483  0.700000 -0.039130  \n\n[165 rows x 10 columns]",
      "text/html": "<div>\n<style scoped>\n    .dataframe tbody tr th:only-of-type {\n        vertical-align: middle;\n    }\n\n    .dataframe tbody tr th {\n        vertical-align: top;\n    }\n\n    .dataframe thead th {\n        text-align: right;\n    }\n</style>\n<table border=\"1\" class=\"dataframe\">\n  <thead>\n    <tr style=\"text-align: right;\">\n      <th></th>\n      <th>Empresa</th>\n      <th>Trimestre</th>\n      <th>data_formatada</th>\n      <th>Posi</th>\n      <th>pos_ind</th>\n      <th>Neg</th>\n      <th>neg_ind</th>\n      <th>Neutral</th>\n      <th>neu_ind</th>\n      <th>indice</th>\n    </tr>\n  </thead>\n  <tbody>\n    <tr>\n      <th>4</th>\n      <td>bradesco</td>\n      <td>2017-3T</td>\n      <td>3T2017</td>\n      <td>64</td>\n      <td>0.297674</td>\n      <td>32</td>\n      <td>0.148837</td>\n      <td>119</td>\n      <td>0.553488</td>\n      <td>0.148837</td>\n    </tr>\n    <tr>\n      <th>5</th>\n      <td>bradesco</td>\n      <td>2017-1T</td>\n      <td>1T2017</td>\n      <td>83</td>\n      <td>0.261830</td>\n      <td>65</td>\n      <td>0.205047</td>\n      <td>169</td>\n      <td>0.533123</td>\n      <td>0.056782</td>\n    </tr>\n    <tr>\n      <th>6</th>\n      <td>bradesco</td>\n      <td>2016-3T</td>\n      <td>3T2016</td>\n      <td>183</td>\n      <td>0.340149</td>\n      <td>99</td>\n      <td>0.184015</td>\n      <td>256</td>\n      <td>0.475836</td>\n      <td>0.156134</td>\n    </tr>\n    <tr>\n      <th>7</th>\n      <td>bradesco</td>\n      <td>2015-3T</td>\n      <td>3T2015</td>\n      <td>33</td>\n      <td>0.103448</td>\n      <td>62</td>\n      <td>0.194357</td>\n      <td>224</td>\n      <td>0.702194</td>\n      <td>-0.090909</td>\n    </tr>\n    <tr>\n      <th>8</th>\n      <td>bradesco</td>\n      <td>2016-4T</td>\n      <td>4T2016</td>\n      <td>139</td>\n      <td>0.227124</td>\n      <td>97</td>\n      <td>0.158497</td>\n      <td>376</td>\n      <td>0.614379</td>\n      <td>0.068627</td>\n    </tr>\n    <tr>\n      <th>...</th>\n      <td>...</td>\n      <td>...</td>\n      <td>...</td>\n      <td>...</td>\n      <td>...</td>\n      <td>...</td>\n      <td>...</td>\n      <td>...</td>\n      <td>...</td>\n      <td>...</td>\n    </tr>\n    <tr>\n      <th>164</th>\n      <td>petrobras</td>\n      <td>2022-2T</td>\n      <td>2T2022</td>\n      <td>168</td>\n      <td>0.336000</td>\n      <td>75</td>\n      <td>0.150000</td>\n      <td>257</td>\n      <td>0.514000</td>\n      <td>0.186000</td>\n    </tr>\n    <tr>\n      <th>165</th>\n      <td>petrobras</td>\n      <td>2018-1T</td>\n      <td>1T2018</td>\n      <td>50</td>\n      <td>0.191571</td>\n      <td>31</td>\n      <td>0.118774</td>\n      <td>180</td>\n      <td>0.689655</td>\n      <td>0.072797</td>\n    </tr>\n    <tr>\n      <th>166</th>\n      <td>petrobras</td>\n      <td>2022-4T</td>\n      <td>4T2022</td>\n      <td>170</td>\n      <td>0.409639</td>\n      <td>49</td>\n      <td>0.118072</td>\n      <td>196</td>\n      <td>0.472289</td>\n      <td>0.291566</td>\n    </tr>\n    <tr>\n      <th>167</th>\n      <td>petrobras</td>\n      <td>2016-4T</td>\n      <td>4T2016</td>\n      <td>86</td>\n      <td>0.143333</td>\n      <td>64</td>\n      <td>0.106667</td>\n      <td>450</td>\n      <td>0.750000</td>\n      <td>0.036667</td>\n    </tr>\n    <tr>\n      <th>168</th>\n      <td>petrobras</td>\n      <td>2015-4T</td>\n      <td>4T2015</td>\n      <td>90</td>\n      <td>0.130435</td>\n      <td>117</td>\n      <td>0.169565</td>\n      <td>483</td>\n      <td>0.700000</td>\n      <td>-0.039130</td>\n    </tr>\n  </tbody>\n</table>\n<p>165 rows × 10 columns</p>\n</div>"
     },
     "execution_count": 35,
     "metadata": {},
     "output_type": "execute_result"
    }
   ],
   "source": [
    "teste = transcricao[transcricao[\"data_formatada\"].str.len() <7]\n",
    "teste"
   ],
   "metadata": {
    "collapsed": false
   }
  },
  {
   "cell_type": "code",
   "execution_count": 52,
   "outputs": [],
   "source": [
    "def data_posterior_mais_proxima(dataframe, data, d=1):\n",
    "    for k in range(len(dataframe)):\n",
    "        data1 = data\n",
    "        data2 = dataframe[\"Date\"][k]\n",
    "        data1 = datetime.strptime(data1, \"%Y-%m-%d\")\n",
    "        data2 = datetime.strptime(data2, \"%Y-%m-%d\")\n",
    "        diferenca = data2 - data1\n",
    "        if diferenca.days <= 10:\n",
    "            if data == dataframe['Date'][k] and k >0:\n",
    "                return k, True\n",
    "            elif data < dataframe['Date'][k] and k > 0:\n",
    "                return k, True\n",
    "    return -1, False"
   ],
   "metadata": {
    "collapsed": false
   }
  },
  {
   "cell_type": "code",
   "execution_count": 53,
   "outputs": [
    {
     "data": {
      "text/plain": "       empresa        data data_formatada       Open       High        Low  \\\n0          brf  2017-11-10     2017-11-10  43.750000  43.750000  40.599998   \n1          brf  2022-02-25     2022-02-25  17.379999  17.500000  16.570000   \n2          brf  2016-04-29     2016-04-29  47.970001  50.849998  47.650002   \n3          brf  2022-11-10     2022-11-10  11.810000  11.830000  10.810000   \n4          brf  2018-08-10     2018-08-10  21.090000  21.170000  20.100000   \n..         ...         ...            ...        ...        ...        ...   \n270  petrobras  2019-02-28     2019-02-28  27.719999  27.750000  26.600000   \n271  petrobras  2014-02-26     2014-02-26  14.200000  14.250000  13.680000   \n272  petrobras  2019-10-25     2019-10-25  29.200001  29.549999  29.010000   \n273  petrobras  2013-02-05     2013-02-05  17.280001  18.290001  17.260000   \n274  petrobras  2021-02-25     2021-02-25  25.000000  25.250000  23.100000   \n\n         Close       Volume  retorno_diario  retorno_diario_2d   posi  \\\n0    41.020000    7369400.0        0.064432          -0.025914  118.0   \n1    16.709999   15965100.0        0.039313          -0.048444  126.0   \n2    49.200001    6567300.0       -0.025318          -0.011082  155.0   \n3    11.000000   19639700.0        0.071051          -0.055785  148.0   \n4    20.440001   12222500.0        0.031305          -0.078060   92.0   \n..         ...          ...             ...                ...    ...   \n270  27.059999   93065100.0        0.024098          -0.014132   47.0   \n271  13.700000   45181500.0        0.035846          -0.009922  227.0   \n272  29.250000   74476900.0       -0.001711           0.044206  134.0   \n273  18.080000   77332900.0       -0.045257          -0.022473  120.0   \n274  23.190001  170233000.0        0.075155          -0.092691  224.0   \n\n     ind_posi   neg   ind_neg    neu   ind_neu    indice  \n0    0.324176  25.0  0.068681  221.0  0.607143  0.255495  \n1    0.275109  55.0  0.120087  277.0  0.604803  0.155022  \n2    0.306324  72.0  0.142292  279.0  0.551383  0.164032  \n3    0.393617  32.0  0.085106  196.0  0.521277  0.308511  \n4    0.227723  65.0  0.160891  247.0  0.611386  0.066832  \n..        ...   ...       ...    ...       ...       ...  \n270  0.166078  34.0  0.120141  202.0  0.713781  0.045936  \n271  0.316156  91.0  0.126741  400.0  0.557103  0.189415  \n272  0.282105  53.0  0.111579  288.0  0.606316  0.170526  \n273  0.233010  94.0  0.182524  301.0  0.584466  0.050485  \n274  0.432432  75.0  0.144788  219.0  0.422780  0.287645  \n\n[275 rows x 17 columns]",
      "text/html": "<div>\n<style scoped>\n    .dataframe tbody tr th:only-of-type {\n        vertical-align: middle;\n    }\n\n    .dataframe tbody tr th {\n        vertical-align: top;\n    }\n\n    .dataframe thead th {\n        text-align: right;\n    }\n</style>\n<table border=\"1\" class=\"dataframe\">\n  <thead>\n    <tr style=\"text-align: right;\">\n      <th></th>\n      <th>empresa</th>\n      <th>data</th>\n      <th>data_formatada</th>\n      <th>Open</th>\n      <th>High</th>\n      <th>Low</th>\n      <th>Close</th>\n      <th>Volume</th>\n      <th>retorno_diario</th>\n      <th>retorno_diario_2d</th>\n      <th>posi</th>\n      <th>ind_posi</th>\n      <th>neg</th>\n      <th>ind_neg</th>\n      <th>neu</th>\n      <th>ind_neu</th>\n      <th>indice</th>\n    </tr>\n  </thead>\n  <tbody>\n    <tr>\n      <th>0</th>\n      <td>brf</td>\n      <td>2017-11-10</td>\n      <td>2017-11-10</td>\n      <td>43.750000</td>\n      <td>43.750000</td>\n      <td>40.599998</td>\n      <td>41.020000</td>\n      <td>7369400.0</td>\n      <td>0.064432</td>\n      <td>-0.025914</td>\n      <td>118.0</td>\n      <td>0.324176</td>\n      <td>25.0</td>\n      <td>0.068681</td>\n      <td>221.0</td>\n      <td>0.607143</td>\n      <td>0.255495</td>\n    </tr>\n    <tr>\n      <th>1</th>\n      <td>brf</td>\n      <td>2022-02-25</td>\n      <td>2022-02-25</td>\n      <td>17.379999</td>\n      <td>17.500000</td>\n      <td>16.570000</td>\n      <td>16.709999</td>\n      <td>15965100.0</td>\n      <td>0.039313</td>\n      <td>-0.048444</td>\n      <td>126.0</td>\n      <td>0.275109</td>\n      <td>55.0</td>\n      <td>0.120087</td>\n      <td>277.0</td>\n      <td>0.604803</td>\n      <td>0.155022</td>\n    </tr>\n    <tr>\n      <th>2</th>\n      <td>brf</td>\n      <td>2016-04-29</td>\n      <td>2016-04-29</td>\n      <td>47.970001</td>\n      <td>50.849998</td>\n      <td>47.650002</td>\n      <td>49.200001</td>\n      <td>6567300.0</td>\n      <td>-0.025318</td>\n      <td>-0.011082</td>\n      <td>155.0</td>\n      <td>0.306324</td>\n      <td>72.0</td>\n      <td>0.142292</td>\n      <td>279.0</td>\n      <td>0.551383</td>\n      <td>0.164032</td>\n    </tr>\n    <tr>\n      <th>3</th>\n      <td>brf</td>\n      <td>2022-11-10</td>\n      <td>2022-11-10</td>\n      <td>11.810000</td>\n      <td>11.830000</td>\n      <td>10.810000</td>\n      <td>11.000000</td>\n      <td>19639700.0</td>\n      <td>0.071051</td>\n      <td>-0.055785</td>\n      <td>148.0</td>\n      <td>0.393617</td>\n      <td>32.0</td>\n      <td>0.085106</td>\n      <td>196.0</td>\n      <td>0.521277</td>\n      <td>0.308511</td>\n    </tr>\n    <tr>\n      <th>4</th>\n      <td>brf</td>\n      <td>2018-08-10</td>\n      <td>2018-08-10</td>\n      <td>21.090000</td>\n      <td>21.170000</td>\n      <td>20.100000</td>\n      <td>20.440001</td>\n      <td>12222500.0</td>\n      <td>0.031305</td>\n      <td>-0.078060</td>\n      <td>92.0</td>\n      <td>0.227723</td>\n      <td>65.0</td>\n      <td>0.160891</td>\n      <td>247.0</td>\n      <td>0.611386</td>\n      <td>0.066832</td>\n    </tr>\n    <tr>\n      <th>...</th>\n      <td>...</td>\n      <td>...</td>\n      <td>...</td>\n      <td>...</td>\n      <td>...</td>\n      <td>...</td>\n      <td>...</td>\n      <td>...</td>\n      <td>...</td>\n      <td>...</td>\n      <td>...</td>\n      <td>...</td>\n      <td>...</td>\n      <td>...</td>\n      <td>...</td>\n      <td>...</td>\n      <td>...</td>\n    </tr>\n    <tr>\n      <th>270</th>\n      <td>petrobras</td>\n      <td>2019-02-28</td>\n      <td>2019-02-28</td>\n      <td>27.719999</td>\n      <td>27.750000</td>\n      <td>26.600000</td>\n      <td>27.059999</td>\n      <td>93065100.0</td>\n      <td>0.024098</td>\n      <td>-0.014132</td>\n      <td>47.0</td>\n      <td>0.166078</td>\n      <td>34.0</td>\n      <td>0.120141</td>\n      <td>202.0</td>\n      <td>0.713781</td>\n      <td>0.045936</td>\n    </tr>\n    <tr>\n      <th>271</th>\n      <td>petrobras</td>\n      <td>2014-02-26</td>\n      <td>2014-02-26</td>\n      <td>14.200000</td>\n      <td>14.250000</td>\n      <td>13.680000</td>\n      <td>13.700000</td>\n      <td>45181500.0</td>\n      <td>0.035846</td>\n      <td>-0.009922</td>\n      <td>227.0</td>\n      <td>0.316156</td>\n      <td>91.0</td>\n      <td>0.126741</td>\n      <td>400.0</td>\n      <td>0.557103</td>\n      <td>0.189415</td>\n    </tr>\n    <tr>\n      <th>272</th>\n      <td>petrobras</td>\n      <td>2019-10-25</td>\n      <td>2019-10-25</td>\n      <td>29.200001</td>\n      <td>29.549999</td>\n      <td>29.010000</td>\n      <td>29.250000</td>\n      <td>74476900.0</td>\n      <td>-0.001711</td>\n      <td>0.044206</td>\n      <td>134.0</td>\n      <td>0.282105</td>\n      <td>53.0</td>\n      <td>0.111579</td>\n      <td>288.0</td>\n      <td>0.606316</td>\n      <td>0.170526</td>\n    </tr>\n    <tr>\n      <th>273</th>\n      <td>petrobras</td>\n      <td>2013-02-05</td>\n      <td>2013-02-05</td>\n      <td>17.280001</td>\n      <td>18.290001</td>\n      <td>17.260000</td>\n      <td>18.080000</td>\n      <td>77332900.0</td>\n      <td>-0.045257</td>\n      <td>-0.022473</td>\n      <td>120.0</td>\n      <td>0.233010</td>\n      <td>94.0</td>\n      <td>0.182524</td>\n      <td>301.0</td>\n      <td>0.584466</td>\n      <td>0.050485</td>\n    </tr>\n    <tr>\n      <th>274</th>\n      <td>petrobras</td>\n      <td>2021-02-25</td>\n      <td>2021-02-25</td>\n      <td>25.000000</td>\n      <td>25.250000</td>\n      <td>23.100000</td>\n      <td>23.190001</td>\n      <td>170233000.0</td>\n      <td>0.075155</td>\n      <td>-0.092691</td>\n      <td>224.0</td>\n      <td>0.432432</td>\n      <td>75.0</td>\n      <td>0.144788</td>\n      <td>219.0</td>\n      <td>0.422780</td>\n      <td>0.287645</td>\n    </tr>\n  </tbody>\n</table>\n<p>275 rows × 17 columns</p>\n</div>"
     },
     "execution_count": 53,
     "metadata": {},
     "output_type": "execute_result"
    }
   ],
   "source": [
    "newdata = pd.DataFrame(columns_name)\n",
    "for empresa, index in zip(transcricao[\"Empresa\"], transcricao.index):\n",
    "    if len(transcricao[\"data_formatada\"][index]) == 10:\n",
    "        for i in range(0,1):\n",
    "            data = transcricao[\"data_formatada\"][index]\n",
    "            valor = pd.read_csv(f\"historical_data/{nomes_empresas[empresa]}.csv\")\n",
    "            index_date, achou = data_posterior_mais_proxima(valor, data, d=1)\n",
    "            if achou:\n",
    "                indx_valor = index_date # valor[valor['Date'] == data_presente].index[0]\n",
    "                retorno_diario = np.log(valor[\"Open\"][indx_valor+i]/valor[\"Close\"][indx_valor+i])\n",
    "                retorno_diario_2d = np.log(valor[\"Close\"][indx_valor+1]/valor[\"Close\"][indx_valor-1])\n",
    "                #newdata[\"retorno_diario\"] = retorno_diario\n",
    "                #newdata[\"data\"] = valor[\"Date\"][indx_valor]\n",
    "                adicionar = pd.DataFrame({\"empresa\": [empresa],\n",
    "                                              \"data_formatada\": [data],\n",
    "                                              'Open':[valor[\"Open\"][indx_valor]],\n",
    "                                              'High':[valor[\"High\"][indx_valor]],\n",
    "                                              'Low':[valor[\"Low\"][indx_valor]],\n",
    "                                              'Close':[valor[\"Close\"][indx_valor]],\n",
    "                                              'Volume':[valor[\"Volume\"][indx_valor]],\n",
    "                                              \"retorno_diario\": [retorno_diario],\n",
    "                                              \"retorno_diario_2d\":[retorno_diario_2d],\n",
    "                                              \"posi\":[transcricao[\"Posi\"][index]],\n",
    "                                              \"ind_posi\": [transcricao[\"pos_ind\"][index]],\n",
    "                                              \"neg\": [transcricao[\"Neg\"][index]],\n",
    "                                              \"ind_neg\": [transcricao[\"neg_ind\"][index]],\n",
    "                                              \"neu\": [transcricao[\"Neutral\"][index]],\n",
    "                                              \"ind_neu\":[transcricao[\"neu_ind\"][index]],\n",
    "                                              \"indice\": [transcricao[\"indice\"][index]],\n",
    "                                              \"data\": [valor[\"Date\"][indx_valor+i]]})\n",
    "                newdata = newdata._append(adicionar, ignore_index=True)\n",
    "#newdata.to_csv(\"Dados_relatorios_tratados_unicos.csv\", index=False)\n",
    "newdata"
   ],
   "metadata": {
    "collapsed": false
   }
  },
  {
   "cell_type": "code",
   "execution_count": 54,
   "outputs": [
    {
     "data": {
      "text/plain": "            empresa        data data_formatada       Open       High  \\\n84   magazine_luiza  2016-01-04     2015-12-31   0.066210   0.071484   \n236       petrobras  2022-11-07     2022-11-05  27.959999  28.299999   \n\n           Low      Close       Volume  retorno_diario  retorno_diario_2d  \\\n84    0.064921   0.070117  138547200.0       -0.057334           0.026832   \n236  27.070000  27.150000  117206600.0        0.029398          -0.034145   \n\n      posi  ind_posi   neg   ind_neg    neu   ind_neu    indice  \n84   135.0  0.442623  36.0  0.118033  134.0  0.439344  0.324590  \n236  181.0  0.329690  42.0  0.076503  326.0  0.593807  0.253188  ",
      "text/html": "<div>\n<style scoped>\n    .dataframe tbody tr th:only-of-type {\n        vertical-align: middle;\n    }\n\n    .dataframe tbody tr th {\n        vertical-align: top;\n    }\n\n    .dataframe thead th {\n        text-align: right;\n    }\n</style>\n<table border=\"1\" class=\"dataframe\">\n  <thead>\n    <tr style=\"text-align: right;\">\n      <th></th>\n      <th>empresa</th>\n      <th>data</th>\n      <th>data_formatada</th>\n      <th>Open</th>\n      <th>High</th>\n      <th>Low</th>\n      <th>Close</th>\n      <th>Volume</th>\n      <th>retorno_diario</th>\n      <th>retorno_diario_2d</th>\n      <th>posi</th>\n      <th>ind_posi</th>\n      <th>neg</th>\n      <th>ind_neg</th>\n      <th>neu</th>\n      <th>ind_neu</th>\n      <th>indice</th>\n    </tr>\n  </thead>\n  <tbody>\n    <tr>\n      <th>84</th>\n      <td>magazine_luiza</td>\n      <td>2016-01-04</td>\n      <td>2015-12-31</td>\n      <td>0.066210</td>\n      <td>0.071484</td>\n      <td>0.064921</td>\n      <td>0.070117</td>\n      <td>138547200.0</td>\n      <td>-0.057334</td>\n      <td>0.026832</td>\n      <td>135.0</td>\n      <td>0.442623</td>\n      <td>36.0</td>\n      <td>0.118033</td>\n      <td>134.0</td>\n      <td>0.439344</td>\n      <td>0.324590</td>\n    </tr>\n    <tr>\n      <th>236</th>\n      <td>petrobras</td>\n      <td>2022-11-07</td>\n      <td>2022-11-05</td>\n      <td>27.959999</td>\n      <td>28.299999</td>\n      <td>27.070000</td>\n      <td>27.150000</td>\n      <td>117206600.0</td>\n      <td>0.029398</td>\n      <td>-0.034145</td>\n      <td>181.0</td>\n      <td>0.329690</td>\n      <td>42.0</td>\n      <td>0.076503</td>\n      <td>326.0</td>\n      <td>0.593807</td>\n      <td>0.253188</td>\n    </tr>\n  </tbody>\n</table>\n</div>"
     },
     "execution_count": 54,
     "metadata": {},
     "output_type": "execute_result"
    }
   ],
   "source": [],
   "metadata": {
    "collapsed": false
   }
  },
  {
   "cell_type": "code",
   "execution_count": 47,
   "outputs": [
    {
     "data": {
      "text/plain": "            Date       Open       High        Low      Close  Adj Close  \\\n0     2010-01-04  17.708261  18.436810  17.708261  18.268333  10.518468   \n1     2010-01-05  18.313868  18.386723  18.168158  18.386723  10.586637   \n2     2010-01-06  18.327526  18.436810  18.077089  18.227352  10.494876   \n3     2010-01-07  18.099855  18.236460  18.008787  18.040663  10.387384   \n4     2010-01-08  18.113516  18.113516  17.721922  17.767456  10.230077   \n...          ...        ...        ...        ...        ...        ...   \n3220  2022-12-23  25.030001  25.510000  24.870001  25.190001  24.271969   \n3221  2022-12-26  24.950001  25.180000  24.549999  24.690001  23.790190   \n3222  2022-12-27  24.660000  24.730000  24.270000  24.549999  23.655294   \n3223  2022-12-28  24.750000  25.200001  24.520000  25.049999  24.137072   \n3224  2022-12-29  25.240000  25.480000  24.959999  25.000000  24.088896   \n\n        Volume  \n0     11843397  \n1      8593315  \n2     10602572  \n3      9966567  \n4      9748709  \n...        ...  \n3220  25327300  \n3221  15730800  \n3222  17203600  \n3223  22696400  \n3224  24799700  \n\n[3225 rows x 7 columns]",
      "text/html": "<div>\n<style scoped>\n    .dataframe tbody tr th:only-of-type {\n        vertical-align: middle;\n    }\n\n    .dataframe tbody tr th {\n        vertical-align: top;\n    }\n\n    .dataframe thead th {\n        text-align: right;\n    }\n</style>\n<table border=\"1\" class=\"dataframe\">\n  <thead>\n    <tr style=\"text-align: right;\">\n      <th></th>\n      <th>Date</th>\n      <th>Open</th>\n      <th>High</th>\n      <th>Low</th>\n      <th>Close</th>\n      <th>Adj Close</th>\n      <th>Volume</th>\n    </tr>\n  </thead>\n  <tbody>\n    <tr>\n      <th>0</th>\n      <td>2010-01-04</td>\n      <td>17.708261</td>\n      <td>18.436810</td>\n      <td>17.708261</td>\n      <td>18.268333</td>\n      <td>10.518468</td>\n      <td>11843397</td>\n    </tr>\n    <tr>\n      <th>1</th>\n      <td>2010-01-05</td>\n      <td>18.313868</td>\n      <td>18.386723</td>\n      <td>18.168158</td>\n      <td>18.386723</td>\n      <td>10.586637</td>\n      <td>8593315</td>\n    </tr>\n    <tr>\n      <th>2</th>\n      <td>2010-01-06</td>\n      <td>18.327526</td>\n      <td>18.436810</td>\n      <td>18.077089</td>\n      <td>18.227352</td>\n      <td>10.494876</td>\n      <td>10602572</td>\n    </tr>\n    <tr>\n      <th>3</th>\n      <td>2010-01-07</td>\n      <td>18.099855</td>\n      <td>18.236460</td>\n      <td>18.008787</td>\n      <td>18.040663</td>\n      <td>10.387384</td>\n      <td>9966567</td>\n    </tr>\n    <tr>\n      <th>4</th>\n      <td>2010-01-08</td>\n      <td>18.113516</td>\n      <td>18.113516</td>\n      <td>17.721922</td>\n      <td>17.767456</td>\n      <td>10.230077</td>\n      <td>9748709</td>\n    </tr>\n    <tr>\n      <th>...</th>\n      <td>...</td>\n      <td>...</td>\n      <td>...</td>\n      <td>...</td>\n      <td>...</td>\n      <td>...</td>\n      <td>...</td>\n    </tr>\n    <tr>\n      <th>3220</th>\n      <td>2022-12-23</td>\n      <td>25.030001</td>\n      <td>25.510000</td>\n      <td>24.870001</td>\n      <td>25.190001</td>\n      <td>24.271969</td>\n      <td>25327300</td>\n    </tr>\n    <tr>\n      <th>3221</th>\n      <td>2022-12-26</td>\n      <td>24.950001</td>\n      <td>25.180000</td>\n      <td>24.549999</td>\n      <td>24.690001</td>\n      <td>23.790190</td>\n      <td>15730800</td>\n    </tr>\n    <tr>\n      <th>3222</th>\n      <td>2022-12-27</td>\n      <td>24.660000</td>\n      <td>24.730000</td>\n      <td>24.270000</td>\n      <td>24.549999</td>\n      <td>23.655294</td>\n      <td>17203600</td>\n    </tr>\n    <tr>\n      <th>3223</th>\n      <td>2022-12-28</td>\n      <td>24.750000</td>\n      <td>25.200001</td>\n      <td>24.520000</td>\n      <td>25.049999</td>\n      <td>24.137072</td>\n      <td>22696400</td>\n    </tr>\n    <tr>\n      <th>3224</th>\n      <td>2022-12-29</td>\n      <td>25.240000</td>\n      <td>25.480000</td>\n      <td>24.959999</td>\n      <td>25.000000</td>\n      <td>24.088896</td>\n      <td>24799700</td>\n    </tr>\n  </tbody>\n</table>\n<p>3225 rows × 7 columns</p>\n</div>"
     },
     "execution_count": 47,
     "metadata": {},
     "output_type": "execute_result"
    }
   ],
   "source": [
    "t=pd.read_csv(\"historical_data/ITUB4.SA.csv\")\n",
    "t"
   ],
   "metadata": {
    "collapsed": false
   }
  },
  {
   "cell_type": "code",
   "execution_count": null,
   "outputs": [],
   "source": [],
   "metadata": {
    "collapsed": false
   }
  }
 ],
 "metadata": {
  "kernelspec": {
   "display_name": "Python 3",
   "language": "python",
   "name": "python3"
  },
  "language_info": {
   "codemirror_mode": {
    "name": "ipython",
    "version": 2
   },
   "file_extension": ".py",
   "mimetype": "text/x-python",
   "name": "python",
   "nbconvert_exporter": "python",
   "pygments_lexer": "ipython2",
   "version": "2.7.6"
  }
 },
 "nbformat": 4,
 "nbformat_minor": 0
}
