{
 "cells": [
  {
   "cell_type": "code",
   "execution_count": 1,
   "metadata": {
    "collapsed": true
   },
   "outputs": [],
   "source": [
    "import pandas as pd\n",
    "import numpy as np"
   ]
  },
  {
   "cell_type": "code",
   "execution_count": 2,
   "outputs": [
    {
     "data": {
      "text/plain": "            Date      Open      High       Low     Close  Adj Close    Volume\n0     2015-01-02  6.405356  6.405356  6.215494  6.280447   4.012360  14637404\n1     2015-01-05  6.105573  6.270454  6.070599  6.205501   3.964481  15570881\n2     2015-01-06  6.295436  6.460316  6.200505  6.405356   4.092161  28972590\n3     2015-01-07  6.650179  6.715132  6.560244  6.585226   4.207075  16810379\n4     2015-01-08  6.615204  6.815059  6.585226  6.735117   4.302834  30165654\n...          ...       ...       ...       ...       ...        ...       ...\n1253  2019-12-24  7.419621  7.419621  7.361913  7.361913   6.291775   2690070\n1254  2019-12-26  7.477329  7.568013  7.477329  7.543281   6.446778  10376609\n1255  2019-12-27  7.592745  7.592745  7.477329  7.510305   6.418595  11085364\n1256  2019-12-30  7.625721  7.633965  7.526793  7.543281   6.446778  13333296\n1257  2019-12-31  7.485573  7.559769  7.485573  7.543281   6.446778   4547173\n\n[1258 rows x 7 columns]",
      "text/html": "<div>\n<style scoped>\n    .dataframe tbody tr th:only-of-type {\n        vertical-align: middle;\n    }\n\n    .dataframe tbody tr th {\n        vertical-align: top;\n    }\n\n    .dataframe thead th {\n        text-align: right;\n    }\n</style>\n<table border=\"1\" class=\"dataframe\">\n  <thead>\n    <tr style=\"text-align: right;\">\n      <th></th>\n      <th>Date</th>\n      <th>Open</th>\n      <th>High</th>\n      <th>Low</th>\n      <th>Close</th>\n      <th>Adj Close</th>\n      <th>Volume</th>\n    </tr>\n  </thead>\n  <tbody>\n    <tr>\n      <th>0</th>\n      <td>2015-01-02</td>\n      <td>6.405356</td>\n      <td>6.405356</td>\n      <td>6.215494</td>\n      <td>6.280447</td>\n      <td>4.012360</td>\n      <td>14637404</td>\n    </tr>\n    <tr>\n      <th>1</th>\n      <td>2015-01-05</td>\n      <td>6.105573</td>\n      <td>6.270454</td>\n      <td>6.070599</td>\n      <td>6.205501</td>\n      <td>3.964481</td>\n      <td>15570881</td>\n    </tr>\n    <tr>\n      <th>2</th>\n      <td>2015-01-06</td>\n      <td>6.295436</td>\n      <td>6.460316</td>\n      <td>6.200505</td>\n      <td>6.405356</td>\n      <td>4.092161</td>\n      <td>28972590</td>\n    </tr>\n    <tr>\n      <th>3</th>\n      <td>2015-01-07</td>\n      <td>6.650179</td>\n      <td>6.715132</td>\n      <td>6.560244</td>\n      <td>6.585226</td>\n      <td>4.207075</td>\n      <td>16810379</td>\n    </tr>\n    <tr>\n      <th>4</th>\n      <td>2015-01-08</td>\n      <td>6.615204</td>\n      <td>6.815059</td>\n      <td>6.585226</td>\n      <td>6.735117</td>\n      <td>4.302834</td>\n      <td>30165654</td>\n    </tr>\n    <tr>\n      <th>...</th>\n      <td>...</td>\n      <td>...</td>\n      <td>...</td>\n      <td>...</td>\n      <td>...</td>\n      <td>...</td>\n      <td>...</td>\n    </tr>\n    <tr>\n      <th>1253</th>\n      <td>2019-12-24</td>\n      <td>7.419621</td>\n      <td>7.419621</td>\n      <td>7.361913</td>\n      <td>7.361913</td>\n      <td>6.291775</td>\n      <td>2690070</td>\n    </tr>\n    <tr>\n      <th>1254</th>\n      <td>2019-12-26</td>\n      <td>7.477329</td>\n      <td>7.568013</td>\n      <td>7.477329</td>\n      <td>7.543281</td>\n      <td>6.446778</td>\n      <td>10376609</td>\n    </tr>\n    <tr>\n      <th>1255</th>\n      <td>2019-12-27</td>\n      <td>7.592745</td>\n      <td>7.592745</td>\n      <td>7.477329</td>\n      <td>7.510305</td>\n      <td>6.418595</td>\n      <td>11085364</td>\n    </tr>\n    <tr>\n      <th>1256</th>\n      <td>2019-12-30</td>\n      <td>7.625721</td>\n      <td>7.633965</td>\n      <td>7.526793</td>\n      <td>7.543281</td>\n      <td>6.446778</td>\n      <td>13333296</td>\n    </tr>\n    <tr>\n      <th>1257</th>\n      <td>2019-12-31</td>\n      <td>7.485573</td>\n      <td>7.559769</td>\n      <td>7.485573</td>\n      <td>7.543281</td>\n      <td>6.446778</td>\n      <td>4547173</td>\n    </tr>\n  </tbody>\n</table>\n<p>1258 rows × 7 columns</p>\n</div>"
     },
     "execution_count": 2,
     "metadata": {},
     "output_type": "execute_result"
    }
   ],
   "source": [
    "data_p= pd.read_csv(\"ITUB.csv\")\n",
    "data_p"
   ],
   "metadata": {
    "collapsed": false
   }
  },
  {
   "cell_type": "code",
   "execution_count": 16,
   "outputs": [
    {
     "data": {
      "text/plain": "         Date periodo  posi  neg  neut    indice\n0  2015-05-06    1T15    94   60   247  0.084788\n1  2015-08-05    2T15    92   42   153  0.174216\n2  2015-11-04    3T15    72   60   185  0.037855\n3  2016-02-03    4T15    92   87   290  0.010661\n4  2016-05-04    1T16    88   75   246  0.031785\n5  2016-08-03    2T16   105   71   206  0.089005\n6  2016-11-01    3T16    92   67   269  0.058411\n7  2017-02-08    4T16   103   90   331  0.024809\n8  2017-05-04    1T17    89   55   235  0.089710\n9  2017-08-01    2T17    82   32   120  0.213675\n10 2017-10-31    3T17    58   30   102  0.147368\n11 2018-02-06    4T17    51   33   115  0.090452\n12 2018-05-02    1T18    84   51   108  0.135802\n13 2018-07-31    2T18   108   28   183  0.250784\n14 2018-10-30    3T18    71   40   160  0.114391\n15 2019-02-05    4T18    57   22    93  0.203488\n16 2019-05-03    1T19    29   10    36  0.253333\n17 2019-07-29    2T19    45   24   112  0.116022\n18 2019-11-05    3T19    55   19   102  0.204545\n19 2020-02-11    4T19    95   37   150  0.205674",
      "text/html": "<div>\n<style scoped>\n    .dataframe tbody tr th:only-of-type {\n        vertical-align: middle;\n    }\n\n    .dataframe tbody tr th {\n        vertical-align: top;\n    }\n\n    .dataframe thead th {\n        text-align: right;\n    }\n</style>\n<table border=\"1\" class=\"dataframe\">\n  <thead>\n    <tr style=\"text-align: right;\">\n      <th></th>\n      <th>Date</th>\n      <th>periodo</th>\n      <th>posi</th>\n      <th>neg</th>\n      <th>neut</th>\n      <th>indice</th>\n    </tr>\n  </thead>\n  <tbody>\n    <tr>\n      <th>0</th>\n      <td>2015-05-06</td>\n      <td>1T15</td>\n      <td>94</td>\n      <td>60</td>\n      <td>247</td>\n      <td>0.084788</td>\n    </tr>\n    <tr>\n      <th>1</th>\n      <td>2015-08-05</td>\n      <td>2T15</td>\n      <td>92</td>\n      <td>42</td>\n      <td>153</td>\n      <td>0.174216</td>\n    </tr>\n    <tr>\n      <th>2</th>\n      <td>2015-11-04</td>\n      <td>3T15</td>\n      <td>72</td>\n      <td>60</td>\n      <td>185</td>\n      <td>0.037855</td>\n    </tr>\n    <tr>\n      <th>3</th>\n      <td>2016-02-03</td>\n      <td>4T15</td>\n      <td>92</td>\n      <td>87</td>\n      <td>290</td>\n      <td>0.010661</td>\n    </tr>\n    <tr>\n      <th>4</th>\n      <td>2016-05-04</td>\n      <td>1T16</td>\n      <td>88</td>\n      <td>75</td>\n      <td>246</td>\n      <td>0.031785</td>\n    </tr>\n    <tr>\n      <th>5</th>\n      <td>2016-08-03</td>\n      <td>2T16</td>\n      <td>105</td>\n      <td>71</td>\n      <td>206</td>\n      <td>0.089005</td>\n    </tr>\n    <tr>\n      <th>6</th>\n      <td>2016-11-01</td>\n      <td>3T16</td>\n      <td>92</td>\n      <td>67</td>\n      <td>269</td>\n      <td>0.058411</td>\n    </tr>\n    <tr>\n      <th>7</th>\n      <td>2017-02-08</td>\n      <td>4T16</td>\n      <td>103</td>\n      <td>90</td>\n      <td>331</td>\n      <td>0.024809</td>\n    </tr>\n    <tr>\n      <th>8</th>\n      <td>2017-05-04</td>\n      <td>1T17</td>\n      <td>89</td>\n      <td>55</td>\n      <td>235</td>\n      <td>0.089710</td>\n    </tr>\n    <tr>\n      <th>9</th>\n      <td>2017-08-01</td>\n      <td>2T17</td>\n      <td>82</td>\n      <td>32</td>\n      <td>120</td>\n      <td>0.213675</td>\n    </tr>\n    <tr>\n      <th>10</th>\n      <td>2017-10-31</td>\n      <td>3T17</td>\n      <td>58</td>\n      <td>30</td>\n      <td>102</td>\n      <td>0.147368</td>\n    </tr>\n    <tr>\n      <th>11</th>\n      <td>2018-02-06</td>\n      <td>4T17</td>\n      <td>51</td>\n      <td>33</td>\n      <td>115</td>\n      <td>0.090452</td>\n    </tr>\n    <tr>\n      <th>12</th>\n      <td>2018-05-02</td>\n      <td>1T18</td>\n      <td>84</td>\n      <td>51</td>\n      <td>108</td>\n      <td>0.135802</td>\n    </tr>\n    <tr>\n      <th>13</th>\n      <td>2018-07-31</td>\n      <td>2T18</td>\n      <td>108</td>\n      <td>28</td>\n      <td>183</td>\n      <td>0.250784</td>\n    </tr>\n    <tr>\n      <th>14</th>\n      <td>2018-10-30</td>\n      <td>3T18</td>\n      <td>71</td>\n      <td>40</td>\n      <td>160</td>\n      <td>0.114391</td>\n    </tr>\n    <tr>\n      <th>15</th>\n      <td>2019-02-05</td>\n      <td>4T18</td>\n      <td>57</td>\n      <td>22</td>\n      <td>93</td>\n      <td>0.203488</td>\n    </tr>\n    <tr>\n      <th>16</th>\n      <td>2019-05-03</td>\n      <td>1T19</td>\n      <td>29</td>\n      <td>10</td>\n      <td>36</td>\n      <td>0.253333</td>\n    </tr>\n    <tr>\n      <th>17</th>\n      <td>2019-07-29</td>\n      <td>2T19</td>\n      <td>45</td>\n      <td>24</td>\n      <td>112</td>\n      <td>0.116022</td>\n    </tr>\n    <tr>\n      <th>18</th>\n      <td>2019-11-05</td>\n      <td>3T19</td>\n      <td>55</td>\n      <td>19</td>\n      <td>102</td>\n      <td>0.204545</td>\n    </tr>\n    <tr>\n      <th>19</th>\n      <td>2020-02-11</td>\n      <td>4T19</td>\n      <td>95</td>\n      <td>37</td>\n      <td>150</td>\n      <td>0.205674</td>\n    </tr>\n  </tbody>\n</table>\n</div>"
     },
     "execution_count": 16,
     "metadata": {},
     "output_type": "execute_result"
    }
   ],
   "source": [
    "data_sec = pd.read_csv(\"resultados_2.csv\", sep=\";\")\n",
    "data_sec = data_sec.rename(columns={\"date\": \"Date\"})\n",
    "data_sec[\"Date\"] = pd.to_datetime(data_sec[\"Date\"],format=\"%d/%m/%Y\")\n",
    "data_sec"
   ],
   "metadata": {
    "collapsed": false
   }
  },
  {
   "cell_type": "code",
   "execution_count": 18,
   "outputs": [
    {
     "data": {
      "text/plain": "           Date      Open      High       Low     Close  Adj Close  \\\n0    2015-01-02  6.405356  6.405356  6.215494  6.280447   4.012360   \n1    2015-01-05  6.105573  6.270454  6.070599  6.205501   3.964481   \n2    2015-01-06  6.295436  6.460316  6.200505  6.405356   4.092161   \n3    2015-01-07  6.650179  6.715132  6.560244  6.585226   4.207075   \n4    2015-01-08  6.615204  6.815059  6.585226  6.735117   4.302834   \n...         ...       ...       ...       ...       ...        ...   \n1254 2019-12-26  7.477329  7.568013  7.477329  7.543281   6.446778   \n1255 2019-12-27  7.592745  7.592745  7.477329  7.510305   6.418595   \n1256 2019-12-30  7.625721  7.633965  7.526793  7.543281   6.446778   \n1257 2019-12-31  7.485573  7.559769  7.485573  7.543281   6.446778   \n19   2020-02-11       NaN       NaN       NaN       NaN        NaN   \n\n          Volume periodo  posi   neg   neut    indice  \n0     14637404.0     NaN   NaN   NaN    NaN       NaN  \n1     15570881.0     NaN   NaN   NaN    NaN       NaN  \n2     28972590.0     NaN   NaN   NaN    NaN       NaN  \n3     16810379.0     NaN   NaN   NaN    NaN       NaN  \n4     30165654.0     NaN   NaN   NaN    NaN       NaN  \n...          ...     ...   ...   ...    ...       ...  \n1254  10376609.0     NaN   NaN   NaN    NaN       NaN  \n1255  11085364.0     NaN   NaN   NaN    NaN       NaN  \n1256  13333296.0     NaN   NaN   NaN    NaN       NaN  \n1257   4547173.0     NaN   NaN   NaN    NaN       NaN  \n19           NaN    4T19  95.0  37.0  150.0  0.205674  \n\n[1278 rows x 12 columns]",
      "text/html": "<div>\n<style scoped>\n    .dataframe tbody tr th:only-of-type {\n        vertical-align: middle;\n    }\n\n    .dataframe tbody tr th {\n        vertical-align: top;\n    }\n\n    .dataframe thead th {\n        text-align: right;\n    }\n</style>\n<table border=\"1\" class=\"dataframe\">\n  <thead>\n    <tr style=\"text-align: right;\">\n      <th></th>\n      <th>Date</th>\n      <th>Open</th>\n      <th>High</th>\n      <th>Low</th>\n      <th>Close</th>\n      <th>Adj Close</th>\n      <th>Volume</th>\n      <th>periodo</th>\n      <th>posi</th>\n      <th>neg</th>\n      <th>neut</th>\n      <th>indice</th>\n    </tr>\n  </thead>\n  <tbody>\n    <tr>\n      <th>0</th>\n      <td>2015-01-02</td>\n      <td>6.405356</td>\n      <td>6.405356</td>\n      <td>6.215494</td>\n      <td>6.280447</td>\n      <td>4.012360</td>\n      <td>14637404.0</td>\n      <td>NaN</td>\n      <td>NaN</td>\n      <td>NaN</td>\n      <td>NaN</td>\n      <td>NaN</td>\n    </tr>\n    <tr>\n      <th>1</th>\n      <td>2015-01-05</td>\n      <td>6.105573</td>\n      <td>6.270454</td>\n      <td>6.070599</td>\n      <td>6.205501</td>\n      <td>3.964481</td>\n      <td>15570881.0</td>\n      <td>NaN</td>\n      <td>NaN</td>\n      <td>NaN</td>\n      <td>NaN</td>\n      <td>NaN</td>\n    </tr>\n    <tr>\n      <th>2</th>\n      <td>2015-01-06</td>\n      <td>6.295436</td>\n      <td>6.460316</td>\n      <td>6.200505</td>\n      <td>6.405356</td>\n      <td>4.092161</td>\n      <td>28972590.0</td>\n      <td>NaN</td>\n      <td>NaN</td>\n      <td>NaN</td>\n      <td>NaN</td>\n      <td>NaN</td>\n    </tr>\n    <tr>\n      <th>3</th>\n      <td>2015-01-07</td>\n      <td>6.650179</td>\n      <td>6.715132</td>\n      <td>6.560244</td>\n      <td>6.585226</td>\n      <td>4.207075</td>\n      <td>16810379.0</td>\n      <td>NaN</td>\n      <td>NaN</td>\n      <td>NaN</td>\n      <td>NaN</td>\n      <td>NaN</td>\n    </tr>\n    <tr>\n      <th>4</th>\n      <td>2015-01-08</td>\n      <td>6.615204</td>\n      <td>6.815059</td>\n      <td>6.585226</td>\n      <td>6.735117</td>\n      <td>4.302834</td>\n      <td>30165654.0</td>\n      <td>NaN</td>\n      <td>NaN</td>\n      <td>NaN</td>\n      <td>NaN</td>\n      <td>NaN</td>\n    </tr>\n    <tr>\n      <th>...</th>\n      <td>...</td>\n      <td>...</td>\n      <td>...</td>\n      <td>...</td>\n      <td>...</td>\n      <td>...</td>\n      <td>...</td>\n      <td>...</td>\n      <td>...</td>\n      <td>...</td>\n      <td>...</td>\n      <td>...</td>\n    </tr>\n    <tr>\n      <th>1254</th>\n      <td>2019-12-26</td>\n      <td>7.477329</td>\n      <td>7.568013</td>\n      <td>7.477329</td>\n      <td>7.543281</td>\n      <td>6.446778</td>\n      <td>10376609.0</td>\n      <td>NaN</td>\n      <td>NaN</td>\n      <td>NaN</td>\n      <td>NaN</td>\n      <td>NaN</td>\n    </tr>\n    <tr>\n      <th>1255</th>\n      <td>2019-12-27</td>\n      <td>7.592745</td>\n      <td>7.592745</td>\n      <td>7.477329</td>\n      <td>7.510305</td>\n      <td>6.418595</td>\n      <td>11085364.0</td>\n      <td>NaN</td>\n      <td>NaN</td>\n      <td>NaN</td>\n      <td>NaN</td>\n      <td>NaN</td>\n    </tr>\n    <tr>\n      <th>1256</th>\n      <td>2019-12-30</td>\n      <td>7.625721</td>\n      <td>7.633965</td>\n      <td>7.526793</td>\n      <td>7.543281</td>\n      <td>6.446778</td>\n      <td>13333296.0</td>\n      <td>NaN</td>\n      <td>NaN</td>\n      <td>NaN</td>\n      <td>NaN</td>\n      <td>NaN</td>\n    </tr>\n    <tr>\n      <th>1257</th>\n      <td>2019-12-31</td>\n      <td>7.485573</td>\n      <td>7.559769</td>\n      <td>7.485573</td>\n      <td>7.543281</td>\n      <td>6.446778</td>\n      <td>4547173.0</td>\n      <td>NaN</td>\n      <td>NaN</td>\n      <td>NaN</td>\n      <td>NaN</td>\n      <td>NaN</td>\n    </tr>\n    <tr>\n      <th>19</th>\n      <td>2020-02-11</td>\n      <td>NaN</td>\n      <td>NaN</td>\n      <td>NaN</td>\n      <td>NaN</td>\n      <td>NaN</td>\n      <td>NaN</td>\n      <td>4T19</td>\n      <td>95.0</td>\n      <td>37.0</td>\n      <td>150.0</td>\n      <td>0.205674</td>\n    </tr>\n  </tbody>\n</table>\n<p>1278 rows × 12 columns</p>\n</div>"
     },
     "execution_count": 18,
     "metadata": {},
     "output_type": "execute_result"
    }
   ],
   "source": [
    "data_final = pd.concat([data_p, data_sec])\n",
    "data_final = data_final.sort_values(by=\"Date\")\n",
    "data_final"
   ],
   "metadata": {
    "collapsed": false
   }
  },
  {
   "cell_type": "code",
   "execution_count": null,
   "outputs": [],
   "source": [],
   "metadata": {
    "collapsed": false
   }
  }
 ],
 "metadata": {
  "kernelspec": {
   "display_name": "Python 3",
   "language": "python",
   "name": "python3"
  },
  "language_info": {
   "codemirror_mode": {
    "name": "ipython",
    "version": 2
   },
   "file_extension": ".py",
   "mimetype": "text/x-python",
   "name": "python",
   "nbconvert_exporter": "python",
   "pygments_lexer": "ipython2",
   "version": "2.7.6"
  }
 },
 "nbformat": 4,
 "nbformat_minor": 0
}
