{
 "cells": [
  {
   "cell_type": "code",
   "execution_count": 1,
   "metadata": {
    "collapsed": true
   },
   "outputs": [],
   "source": [
    "import pandas as pd\n",
    "import numpy as np\n",
    "import matplotlib.pyplot as plt"
   ]
  },
  {
   "cell_type": "code",
   "execution_count": 12,
   "metadata": {
    "collapsed": false
   },
   "outputs": [
    {
     "data": {
      "text/plain": "              Empresa data_formatada  Posi   pos_ind  Neg   neg_ind  Neutral  \\\n0          brf-3T2017     2017-11-10   118  0.324176   25  0.068681      221   \n1          brf-4T2021     2022-02-25   126  0.275109   55  0.120087      277   \n2          brf-1T2016     2016-04-29   155  0.306324   72  0.142292      279   \n3          brf-3T2022     2022-11-10   148  0.393617   32  0.085106      196   \n4          brf-2T2018     2018-08-10    92  0.227723   65  0.160891      247   \n..                ...            ...   ...       ...  ...       ...      ...   \n557  petrobras-4T2013     2014-02-26   227  0.316156   91  0.126741      400   \n558  petrobras-4T2015         4T2015    90  0.130435  117  0.169565      483   \n559  petrobras-3T2019     2019-10-25   134  0.282105   53  0.111579      288   \n560  petrobras-4T2012     2013-02-05   120  0.233010   94  0.182524      301   \n561  petrobras-4T2020     2021-02-25   224  0.432432   75  0.144788      219   \n\n      neu_ind    indice  \n0    0.607143  0.255495  \n1    0.604803  0.155022  \n2    0.551383  0.164032  \n3    0.521277  0.308511  \n4    0.611386  0.066832  \n..        ...       ...  \n557  0.557103  0.189415  \n558  0.700000 -0.039130  \n559  0.606316  0.170526  \n560  0.584466  0.050485  \n561  0.422780  0.287645  \n\n[562 rows x 9 columns]",
      "text/html": "<div>\n<style scoped>\n    .dataframe tbody tr th:only-of-type {\n        vertical-align: middle;\n    }\n\n    .dataframe tbody tr th {\n        vertical-align: top;\n    }\n\n    .dataframe thead th {\n        text-align: right;\n    }\n</style>\n<table border=\"1\" class=\"dataframe\">\n  <thead>\n    <tr style=\"text-align: right;\">\n      <th></th>\n      <th>Empresa</th>\n      <th>data_formatada</th>\n      <th>Posi</th>\n      <th>pos_ind</th>\n      <th>Neg</th>\n      <th>neg_ind</th>\n      <th>Neutral</th>\n      <th>neu_ind</th>\n      <th>indice</th>\n    </tr>\n  </thead>\n  <tbody>\n    <tr>\n      <th>0</th>\n      <td>brf-3T2017</td>\n      <td>2017-11-10</td>\n      <td>118</td>\n      <td>0.324176</td>\n      <td>25</td>\n      <td>0.068681</td>\n      <td>221</td>\n      <td>0.607143</td>\n      <td>0.255495</td>\n    </tr>\n    <tr>\n      <th>1</th>\n      <td>brf-4T2021</td>\n      <td>2022-02-25</td>\n      <td>126</td>\n      <td>0.275109</td>\n      <td>55</td>\n      <td>0.120087</td>\n      <td>277</td>\n      <td>0.604803</td>\n      <td>0.155022</td>\n    </tr>\n    <tr>\n      <th>2</th>\n      <td>brf-1T2016</td>\n      <td>2016-04-29</td>\n      <td>155</td>\n      <td>0.306324</td>\n      <td>72</td>\n      <td>0.142292</td>\n      <td>279</td>\n      <td>0.551383</td>\n      <td>0.164032</td>\n    </tr>\n    <tr>\n      <th>3</th>\n      <td>brf-3T2022</td>\n      <td>2022-11-10</td>\n      <td>148</td>\n      <td>0.393617</td>\n      <td>32</td>\n      <td>0.085106</td>\n      <td>196</td>\n      <td>0.521277</td>\n      <td>0.308511</td>\n    </tr>\n    <tr>\n      <th>4</th>\n      <td>brf-2T2018</td>\n      <td>2018-08-10</td>\n      <td>92</td>\n      <td>0.227723</td>\n      <td>65</td>\n      <td>0.160891</td>\n      <td>247</td>\n      <td>0.611386</td>\n      <td>0.066832</td>\n    </tr>\n    <tr>\n      <th>...</th>\n      <td>...</td>\n      <td>...</td>\n      <td>...</td>\n      <td>...</td>\n      <td>...</td>\n      <td>...</td>\n      <td>...</td>\n      <td>...</td>\n      <td>...</td>\n    </tr>\n    <tr>\n      <th>557</th>\n      <td>petrobras-4T2013</td>\n      <td>2014-02-26</td>\n      <td>227</td>\n      <td>0.316156</td>\n      <td>91</td>\n      <td>0.126741</td>\n      <td>400</td>\n      <td>0.557103</td>\n      <td>0.189415</td>\n    </tr>\n    <tr>\n      <th>558</th>\n      <td>petrobras-4T2015</td>\n      <td>4T2015</td>\n      <td>90</td>\n      <td>0.130435</td>\n      <td>117</td>\n      <td>0.169565</td>\n      <td>483</td>\n      <td>0.700000</td>\n      <td>-0.039130</td>\n    </tr>\n    <tr>\n      <th>559</th>\n      <td>petrobras-3T2019</td>\n      <td>2019-10-25</td>\n      <td>134</td>\n      <td>0.282105</td>\n      <td>53</td>\n      <td>0.111579</td>\n      <td>288</td>\n      <td>0.606316</td>\n      <td>0.170526</td>\n    </tr>\n    <tr>\n      <th>560</th>\n      <td>petrobras-4T2012</td>\n      <td>2013-02-05</td>\n      <td>120</td>\n      <td>0.233010</td>\n      <td>94</td>\n      <td>0.182524</td>\n      <td>301</td>\n      <td>0.584466</td>\n      <td>0.050485</td>\n    </tr>\n    <tr>\n      <th>561</th>\n      <td>petrobras-4T2020</td>\n      <td>2021-02-25</td>\n      <td>224</td>\n      <td>0.432432</td>\n      <td>75</td>\n      <td>0.144788</td>\n      <td>219</td>\n      <td>0.422780</td>\n      <td>0.287645</td>\n    </tr>\n  </tbody>\n</table>\n<p>562 rows × 9 columns</p>\n</div>"
     },
     "execution_count": 12,
     "metadata": {},
     "output_type": "execute_result"
    }
   ],
   "source": [
    "data = pd.read_csv(\"transcricao.csv\")\n",
    "data"
   ]
  },
  {
   "cell_type": "code",
   "execution_count": 3,
   "metadata": {
    "collapsed": false
   },
   "outputs": [
    {
     "data": {
      "text/plain": "       Empresa Trimestre data_formatada  Posi   pos_ind  Neg   neg_ind  \\\n0          brf   2017-3T     2017-11-10   118  0.324176   25  0.068681   \n1          brf   2021-4T     2022-02-25   126  0.275109   55  0.120087   \n2          brf   2016-1T     2016-04-29   155  0.306324   72  0.142292   \n3          brf   2022-3T     2022-11-10   148  0.393617   32  0.085106   \n4          brf   2018-2T     2018-08-10    92  0.227723   65  0.160891   \n..         ...       ...            ...   ...       ...  ...       ...   \n557  petrobras   2013-4T     2014-02-26   227  0.316156   91  0.126741   \n558  petrobras   2015-4T         4T2015    90  0.130435  117  0.169565   \n559  petrobras   2019-3T     2019-10-25   134  0.282105   53  0.111579   \n560  petrobras   2012-4T     2013-02-05   120  0.233010   94  0.182524   \n561  petrobras   2020-4T     2021-02-25   224  0.432432   75  0.144788   \n\n     Neutral   neu_ind    indice  \n0        221  0.607143  0.255495  \n1        277  0.604803  0.155022  \n2        279  0.551383  0.164032  \n3        196  0.521277  0.308511  \n4        247  0.611386  0.066832  \n..       ...       ...       ...  \n557      400  0.557103  0.189415  \n558      483  0.700000 -0.039130  \n559      288  0.606316  0.170526  \n560      301  0.584466  0.050485  \n561      219  0.422780  0.287645  \n\n[562 rows x 10 columns]",
      "text/html": "<div>\n<style scoped>\n    .dataframe tbody tr th:only-of-type {\n        vertical-align: middle;\n    }\n\n    .dataframe tbody tr th {\n        vertical-align: top;\n    }\n\n    .dataframe thead th {\n        text-align: right;\n    }\n</style>\n<table border=\"1\" class=\"dataframe\">\n  <thead>\n    <tr style=\"text-align: right;\">\n      <th></th>\n      <th>Empresa</th>\n      <th>Trimestre</th>\n      <th>data_formatada</th>\n      <th>Posi</th>\n      <th>pos_ind</th>\n      <th>Neg</th>\n      <th>neg_ind</th>\n      <th>Neutral</th>\n      <th>neu_ind</th>\n      <th>indice</th>\n    </tr>\n  </thead>\n  <tbody>\n    <tr>\n      <th>0</th>\n      <td>brf</td>\n      <td>2017-3T</td>\n      <td>2017-11-10</td>\n      <td>118</td>\n      <td>0.324176</td>\n      <td>25</td>\n      <td>0.068681</td>\n      <td>221</td>\n      <td>0.607143</td>\n      <td>0.255495</td>\n    </tr>\n    <tr>\n      <th>1</th>\n      <td>brf</td>\n      <td>2021-4T</td>\n      <td>2022-02-25</td>\n      <td>126</td>\n      <td>0.275109</td>\n      <td>55</td>\n      <td>0.120087</td>\n      <td>277</td>\n      <td>0.604803</td>\n      <td>0.155022</td>\n    </tr>\n    <tr>\n      <th>2</th>\n      <td>brf</td>\n      <td>2016-1T</td>\n      <td>2016-04-29</td>\n      <td>155</td>\n      <td>0.306324</td>\n      <td>72</td>\n      <td>0.142292</td>\n      <td>279</td>\n      <td>0.551383</td>\n      <td>0.164032</td>\n    </tr>\n    <tr>\n      <th>3</th>\n      <td>brf</td>\n      <td>2022-3T</td>\n      <td>2022-11-10</td>\n      <td>148</td>\n      <td>0.393617</td>\n      <td>32</td>\n      <td>0.085106</td>\n      <td>196</td>\n      <td>0.521277</td>\n      <td>0.308511</td>\n    </tr>\n    <tr>\n      <th>4</th>\n      <td>brf</td>\n      <td>2018-2T</td>\n      <td>2018-08-10</td>\n      <td>92</td>\n      <td>0.227723</td>\n      <td>65</td>\n      <td>0.160891</td>\n      <td>247</td>\n      <td>0.611386</td>\n      <td>0.066832</td>\n    </tr>\n    <tr>\n      <th>...</th>\n      <td>...</td>\n      <td>...</td>\n      <td>...</td>\n      <td>...</td>\n      <td>...</td>\n      <td>...</td>\n      <td>...</td>\n      <td>...</td>\n      <td>...</td>\n      <td>...</td>\n    </tr>\n    <tr>\n      <th>557</th>\n      <td>petrobras</td>\n      <td>2013-4T</td>\n      <td>2014-02-26</td>\n      <td>227</td>\n      <td>0.316156</td>\n      <td>91</td>\n      <td>0.126741</td>\n      <td>400</td>\n      <td>0.557103</td>\n      <td>0.189415</td>\n    </tr>\n    <tr>\n      <th>558</th>\n      <td>petrobras</td>\n      <td>2015-4T</td>\n      <td>4T2015</td>\n      <td>90</td>\n      <td>0.130435</td>\n      <td>117</td>\n      <td>0.169565</td>\n      <td>483</td>\n      <td>0.700000</td>\n      <td>-0.039130</td>\n    </tr>\n    <tr>\n      <th>559</th>\n      <td>petrobras</td>\n      <td>2019-3T</td>\n      <td>2019-10-25</td>\n      <td>134</td>\n      <td>0.282105</td>\n      <td>53</td>\n      <td>0.111579</td>\n      <td>288</td>\n      <td>0.606316</td>\n      <td>0.170526</td>\n    </tr>\n    <tr>\n      <th>560</th>\n      <td>petrobras</td>\n      <td>2012-4T</td>\n      <td>2013-02-05</td>\n      <td>120</td>\n      <td>0.233010</td>\n      <td>94</td>\n      <td>0.182524</td>\n      <td>301</td>\n      <td>0.584466</td>\n      <td>0.050485</td>\n    </tr>\n    <tr>\n      <th>561</th>\n      <td>petrobras</td>\n      <td>2020-4T</td>\n      <td>2021-02-25</td>\n      <td>224</td>\n      <td>0.432432</td>\n      <td>75</td>\n      <td>0.144788</td>\n      <td>219</td>\n      <td>0.422780</td>\n      <td>0.287645</td>\n    </tr>\n  </tbody>\n</table>\n<p>562 rows × 10 columns</p>\n</div>"
     },
     "execution_count": 3,
     "metadata": {},
     "output_type": "execute_result"
    }
   ],
   "source": [
    "# Função para remover as últimas letras de um nome\n",
    "def remove_ultimas_letras(nome):\n",
    "    return nome[:-7]\n",
    "\n",
    "def extrair_ultimas_letras(nome):\n",
    "    return nome[-4:]+nome[-7:-4]\n",
    "\n",
    "data['Trimestre'] = data['Empresa'].apply(extrair_ultimas_letras)\n",
    "# Aplicar a função a cada valor da coluna \"nomes\"\n",
    "data['Empresa'] = data['Empresa'].apply(remove_ultimas_letras)\n",
    "data = data[[\"Empresa\", \"Trimestre\", \"data_formatada\", \"Posi\", \"pos_ind\", \"Neg\", \"neg_ind\", \"Neutral\", \"neu_ind\", \"indice\"]]\n",
    "data"
   ]
  },
  {
   "cell_type": "code",
   "execution_count": 4,
   "outputs": [],
   "source": [
    "data.to_csv(\"transcricao_formatada.csv\", index=False)"
   ],
   "metadata": {
    "collapsed": false
   }
  },
  {
   "cell_type": "code",
   "execution_count": null,
   "metadata": {
    "collapsed": false,
    "pycharm": {
     "is_executing": true
    }
   },
   "outputs": [],
   "source": [
    "for empresa in data[\"Empresa\"].unique():\n",
    "    # Extraia os dados da empresa\n",
    "    dados = data[data[\"Empresa\"] == empresa]\n",
    "    dados = dados.sort_values(by='Trimestre')\n",
    "    # Crie um gráfico de linha\n",
    "    plt.plot(dados[\"Trimestre\"], dados[\"indice\"])\n",
    "    plt.xticks(dados[\"Trimestre\"][::10])\n",
    "    plt.ylabel(\"Índice de Sentimento\")\n",
    "    plt.title(empresa)\n",
    "    plt.show()\n"
   ]
  },
  {
   "cell_type": "code",
   "execution_count": 33,
   "metadata": {
    "collapsed": false
   },
   "outputs": [
    {
     "ename": "TypeError",
     "evalue": "list indices must be integers or slices, not str",
     "output_type": "error",
     "traceback": [
      "\u001B[1;31m---------------------------------------------------------------------------\u001B[0m",
      "\u001B[1;31mTypeError\u001B[0m                                 Traceback (most recent call last)",
      "Cell \u001B[1;32mIn[33], line 11\u001B[0m\n\u001B[0;32m      9\u001B[0m     dados \u001B[38;5;241m=\u001B[39m \u001B[38;5;28msorted\u001B[39m(data[\u001B[38;5;124m\"\u001B[39m\u001B[38;5;124mdata_formatada\u001B[39m\u001B[38;5;124m\"\u001B[39m]\u001B[38;5;241m.\u001B[39mstr\u001B[38;5;241m.\u001B[39mextract(\u001B[38;5;124mr\u001B[39m\u001B[38;5;124m'\u001B[39m\u001B[38;5;124m(\u001B[39m\u001B[38;5;124m\\\u001B[39m\u001B[38;5;124md\u001B[39m\u001B[38;5;132;01m{4}\u001B[39;00m\u001B[38;5;124m)\u001B[39m\u001B[38;5;124m'\u001B[39m)[\u001B[38;5;241m0\u001B[39m]\u001B[38;5;241m.\u001B[39munique())\n\u001B[0;32m     10\u001B[0m     \u001B[38;5;66;03m# Crie um gráfico de linha para cada empresa e adicione ao gráfico existente\u001B[39;00m\n\u001B[1;32m---> 11\u001B[0m     plt\u001B[38;5;241m.\u001B[39mplot(\u001B[43mdados\u001B[49m\u001B[43m[\u001B[49m\u001B[38;5;124;43m\"\u001B[39;49m\u001B[38;5;124;43mTrimestre\u001B[39;49m\u001B[38;5;124;43m\"\u001B[39;49m\u001B[43m]\u001B[49m, dados[\u001B[38;5;124m\"\u001B[39m\u001B[38;5;124mindice\u001B[39m\u001B[38;5;124m\"\u001B[39m])\n\u001B[0;32m     13\u001B[0m \u001B[38;5;66;03m# Defina os ticks no eixo x\u001B[39;00m\n\u001B[0;32m     14\u001B[0m plt\u001B[38;5;241m.\u001B[39mxticks(data[\u001B[38;5;124m\"\u001B[39m\u001B[38;5;124mTrimestre\u001B[39m\u001B[38;5;124m\"\u001B[39m]\u001B[38;5;241m.\u001B[39munique()[::\u001B[38;5;241m10\u001B[39m])\n",
      "\u001B[1;31mTypeError\u001B[0m: list indices must be integers or slices, not str"
     ]
    }
   ],
   "source": []
  },
  {
   "cell_type": "code",
   "execution_count": null,
   "outputs": [],
   "source": [],
   "metadata": {
    "collapsed": false
   }
  }
 ],
 "metadata": {
  "kernelspec": {
   "display_name": "Python 3",
   "language": "python",
   "name": "python3"
  },
  "language_info": {
   "codemirror_mode": {
    "name": "ipython",
    "version": 2
   },
   "file_extension": ".py",
   "mimetype": "text/x-python",
   "name": "python",
   "nbconvert_exporter": "python",
   "pygments_lexer": "ipython2",
   "version": "2.7.6"
  }
 },
 "nbformat": 4,
 "nbformat_minor": 0
}
